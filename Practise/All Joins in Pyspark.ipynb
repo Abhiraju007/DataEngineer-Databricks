{
 "cells": [
  {
   "cell_type": "code",
   "execution_count": 0,
   "metadata": {
    "application/vnd.databricks.v1+cell": {
     "cellMetadata": {
      "byteLimit": 2048000,
      "rowLimit": 10000
     },
     "inputWidgets": {},
     "nuid": "590dce3d-075e-411c-afbf-d3a00989b2ad",
     "showTitle": false,
     "title": ""
    }
   },
   "outputs": [
    {
     "output_type": "display_data",
     "data": {
      "text/html": [
       "<style scoped>\n",
       "  .table-result-container {\n",
       "    max-height: 300px;\n",
       "    overflow: auto;\n",
       "  }\n",
       "  table, th, td {\n",
       "    border: 1px solid black;\n",
       "    border-collapse: collapse;\n",
       "  }\n",
       "  th, td {\n",
       "    padding: 5px;\n",
       "  }\n",
       "  th {\n",
       "    text-align: left;\n",
       "  }\n",
       "</style><div class='table-result-container'><table class='table-result'><thead style='background-color: white'><tr><th>CustomerID</th><th>OrderName</th><th>OrderDate</th></tr></thead><tbody><tr><td>2</td><td>laptop</td><td>2020-12-01</td></tr><tr><td>37</td><td>Mobile</td><td>2020-12-02</td></tr><tr><td>77</td><td>Tv</td><td>2020-12-03</td></tr></tbody></table></div>"
      ]
     },
     "metadata": {
      "application/vnd.databricks.v1+output": {
       "addedWidgets": {},
       "aggData": [],
       "aggError": "",
       "aggOverflow": false,
       "aggSchema": [],
       "aggSeriesLimitReached": false,
       "aggType": "",
       "arguments": {},
       "columnCustomDisplayInfos": {},
       "data": [
        [
         2,
         "laptop",
         "2020-12-01"
        ],
        [
         37,
         "Mobile",
         "2020-12-02"
        ],
        [
         77,
         "Tv",
         "2020-12-03"
        ]
       ],
       "datasetInfos": [],
       "dbfsResultPath": null,
       "isJsonSchema": true,
       "metadata": {},
       "overflow": false,
       "plotOptions": {
        "customPlotOptions": {},
        "displayType": "table",
        "pivotAggregation": null,
        "pivotColumns": null,
        "xColumns": null,
        "yColumns": null
       },
       "removedWidgets": [],
       "schema": [
        {
         "metadata": "{}",
         "name": "CustomerID",
         "type": "\"long\""
        },
        {
         "metadata": "{}",
         "name": "OrderName",
         "type": "\"string\""
        },
        {
         "metadata": "{}",
         "name": "OrderDate",
         "type": "\"string\""
        }
       ],
       "type": "table"
      }
     },
     "output_type": "display_data"
    }
   ],
   "source": [
    "df1 = spark.createDataFrame([(2,'laptop','2020-12-01'),(37,'Mobile','2020-12-02'),(77,'Tv','2020-12-03')],['CustomerID','OrderName','OrderDate'])\n",
    "display(df1)"
   ]
  },
  {
   "cell_type": "code",
   "execution_count": 0,
   "metadata": {
    "application/vnd.databricks.v1+cell": {
     "cellMetadata": {
      "byteLimit": 2048000,
      "rowLimit": 10000
     },
     "inputWidgets": {},
     "nuid": "056bf98c-e578-4e37-aa32-70cee9bc6306",
     "showTitle": false,
     "title": ""
    }
   },
   "outputs": [
    {
     "output_type": "stream",
     "name": "stdout",
     "output_type": "stream",
     "text": [
      "+----------+------------+-----------+-------+\n|CustomerId|CustomerName|ContactName|Country|\n+----------+------------+-----------+-------+\n|1         |Krishna     |Maria      |Germany|\n|2         |rama        |ana        |Mexico |\n|3         |sai         |Antonio    |Mexico |\n+----------+------------+-----------+-------+\n\n"
     ]
    }
   ],
   "source": [
    "df2 = spark.createDataFrame([(1,'Krishna','Maria','Germany'),(2,'rama','ana','Mexico'),(3,'sai','Antonio','Mexico')],\n",
    "['CustomerId','CustomerName','ContactName','Country'])\n",
    "            \n",
    "df2.show(truncate=False)"
   ]
  },
  {
   "cell_type": "code",
   "execution_count": 0,
   "metadata": {
    "application/vnd.databricks.v1+cell": {
     "cellMetadata": {
      "byteLimit": 2048000,
      "rowLimit": 10000
     },
     "inputWidgets": {},
     "nuid": "83340591-d5a9-43c9-a262-86a85e0136e7",
     "showTitle": false,
     "title": ""
    }
   },
   "outputs": [
    {
     "output_type": "stream",
     "name": "stdout",
     "output_type": "stream",
     "text": [
      "+----------+---------+----------+----------+------------+-----------+-------+\n|CustomerID|OrderName|OrderDate |CustomerId|CustomerName|ContactName|Country|\n+----------+---------+----------+----------+------------+-----------+-------+\n|2         |laptop   |2020-12-01|2         |rama        |ana        |Mexico |\n+----------+---------+----------+----------+------------+-----------+-------+\n\n"
     ]
    }
   ],
   "source": [
    "# inner join\n",
    "\n",
    "df_inner = df1.join(df2,df1[\"CustomerID\"]==df2[\"CustomerID\"],\"inner\")\n",
    "df_inner.show(truncate=False)"
   ]
  },
  {
   "cell_type": "code",
   "execution_count": 0,
   "metadata": {
    "application/vnd.databricks.v1+cell": {
     "cellMetadata": {
      "byteLimit": 2048000,
      "rowLimit": 10000
     },
     "inputWidgets": {},
     "nuid": "ac010b89-c534-487b-8a89-84eb530a6566",
     "showTitle": false,
     "title": ""
    }
   },
   "outputs": [
    {
     "output_type": "stream",
     "name": "stdout",
     "output_type": "stream",
     "text": [
      "+----------+---------+----------+----------+------------+-----------+-------+\n|CustomerID|OrderName|OrderDate |CustomerId|CustomerName|ContactName|Country|\n+----------+---------+----------+----------+------------+-----------+-------+\n|2         |laptop   |2020-12-01|2         |rama        |ana        |Mexico |\n+----------+---------+----------+----------+------------+-----------+-------+\n\n"
     ]
    }
   ],
   "source": [
    "#Alternate method\n",
    "\n",
    "df_inner = df1.join(df2,df1.CustomerID==df2.CustomerId,\"inner\")\n",
    "df_inner.show(truncate=False)"
   ]
  },
  {
   "cell_type": "code",
   "execution_count": 0,
   "metadata": {
    "application/vnd.databricks.v1+cell": {
     "cellMetadata": {
      "byteLimit": 2048000,
      "rowLimit": 10000
     },
     "inputWidgets": {},
     "nuid": "8efe71b0-ba48-4c25-9312-db573cf7377d",
     "showTitle": false,
     "title": ""
    }
   },
   "outputs": [
    {
     "output_type": "stream",
     "name": "stdout",
     "output_type": "stream",
     "text": [
      "+----------+---------+----------+----------+------------+-----------+-------+\n|CustomerID|OrderName| OrderDate|CustomerId|CustomerName|ContactName|Country|\n+----------+---------+----------+----------+------------+-----------+-------+\n|         2|   laptop|2020-12-01|         2|        rama|        ana| Mexico|\n+----------+---------+----------+----------+------------+-----------+-------+\n\n"
     ]
    }
   ],
   "source": [
    "# 2nd Alternative\n",
    "from pyspark.sql.functions import col\n",
    "\n",
    "df_inner = df1.alias(\"a\").join(df2.alias(\"b\"),col(\"a.CustomerID\")==col(\"b.Customerid\"),\"inner\")\n",
    "df_inner.show()"
   ]
  },
  {
   "cell_type": "code",
   "execution_count": 0,
   "metadata": {
    "application/vnd.databricks.v1+cell": {
     "cellMetadata": {
      "byteLimit": 2048000,
      "rowLimit": 10000
     },
     "inputWidgets": {},
     "nuid": "26997f29-d594-40de-88a0-65886def1cc7",
     "showTitle": false,
     "title": ""
    }
   },
   "outputs": [
    {
     "output_type": "stream",
     "name": "stdout",
     "output_type": "stream",
     "text": [
      "+----------+---------+----------+------------+-------+\n|CustomerID|OrderName|OrderDate |CustomerName|Country|\n+----------+---------+----------+------------+-------+\n|2         |laptop   |2020-12-01|rama        |Mexico |\n+----------+---------+----------+------------+-------+\n\n"
     ]
    }
   ],
   "source": [
    "#to select particular column\n",
    "\n",
    "from pyspark.sql.functions import col\n",
    "\n",
    "df_inner = df1.alias(\"a\").join(df2.alias(\"b\"),col(\"a.CustomerID\")==col(\"b.Customerid\"),\"inner\").select(col(\"a.*\"),col(\"b.CustomerName\"),col(\"b.Country\"))\n",
    "df_inner.show(truncate=False)"
   ]
  },
  {
   "cell_type": "code",
   "execution_count": 0,
   "metadata": {
    "application/vnd.databricks.v1+cell": {
     "cellMetadata": {
      "byteLimit": 2048000,
      "rowLimit": 10000
     },
     "inputWidgets": {},
     "nuid": "a51045b5-fac0-4e9d-bd66-e62092682846",
     "showTitle": false,
     "title": ""
    }
   },
   "outputs": [
    {
     "output_type": "stream",
     "name": "stdout",
     "output_type": "stream",
     "text": [
      "+----------+---------+----------+----------+------------+-----------+-------+\n|CustomerID|OrderName|OrderDate |CustomerId|CustomerName|ContactName|Country|\n+----------+---------+----------+----------+------------+-----------+-------+\n|2         |laptop   |2020-12-01|2         |rama        |ana        |Mexico |\n|37        |Mobile   |2020-12-02|null      |null        |null       |null   |\n|77        |Tv       |2020-12-03|null      |null        |null       |null   |\n+----------+---------+----------+----------+------------+-----------+-------+\n\n"
     ]
    }
   ],
   "source": [
    "#left join, left outer join\n",
    "\n",
    "df_left_outer = df1.join(df2,df1.CustomerID==df2.CustomerId,\"left\")\n",
    "df_left_outer.show(truncate=False)\n"
   ]
  },
  {
   "cell_type": "code",
   "execution_count": 0,
   "metadata": {
    "application/vnd.databricks.v1+cell": {
     "cellMetadata": {
      "byteLimit": 2048000,
      "rowLimit": 10000
     },
     "inputWidgets": {},
     "nuid": "1a9e9e96-351b-4e18-b313-fb1ca57ccba7",
     "showTitle": false,
     "title": ""
    }
   },
   "outputs": [
    {
     "output_type": "stream",
     "name": "stdout",
     "output_type": "stream",
     "text": [
      "+----------+---------+----------+------------+-------+\n|CustomerID|OrderName|OrderDate |CustomerName|Country|\n+----------+---------+----------+------------+-------+\n|2         |laptop   |2020-12-01|rama        |Mexico |\n|37        |Mobile   |2020-12-02|null        |null   |\n|77        |Tv       |2020-12-03|null        |null   |\n+----------+---------+----------+------------+-------+\n\n"
     ]
    }
   ],
   "source": [
    "from pyspark.sql.functions import col\n",
    "\n",
    "df_left_outer = df1.alias(\"a\").join(df2.alias(\"b\"),col(\"a.CustomerID\")==col(\"b.CustomerID\"),\"left\").select(col(\"a.*\"),col(\"b.CustomerName\"),col(\"b.Country\"))\n",
    "\n",
    "df_left_outer.show(truncate=False)\n",
    "\n"
   ]
  },
  {
   "cell_type": "code",
   "execution_count": 0,
   "metadata": {
    "application/vnd.databricks.v1+cell": {
     "cellMetadata": {
      "byteLimit": 2048000,
      "rowLimit": 10000
     },
     "inputWidgets": {},
     "nuid": "5f55f7f1-01cc-4684-a114-f9d5c916538c",
     "showTitle": false,
     "title": ""
    }
   },
   "outputs": [
    {
     "output_type": "display_data",
     "data": {
      "text/plain": [
       ""
      ]
     },
     "metadata": {
      "application/vnd.databricks.v1+output": {
       "arguments": {},
       "data": "",
       "errorSummary": "Command skipped",
       "errorTraceType": "ansi",
       "metadata": {},
       "type": "ipynbError"
      }
     },
     "output_type": "display_data"
    }
   ],
   "source": [
    "df_left_outer = df1.join(df2,df1.CustomerID==df2.CustomerId,\"left_outer\")\n",
    "\n",
    "df_left_outer.show(truncate=False)"
   ]
  },
  {
   "cell_type": "code",
   "execution_count": 0,
   "metadata": {
    "application/vnd.databricks.v1+cell": {
     "cellMetadata": {
      "byteLimit": 2048000,
      "rowLimit": 10000
     },
     "inputWidgets": {},
     "nuid": "c4baa5d4-5ebc-49ff-9ea6-28f920936d31",
     "showTitle": false,
     "title": ""
    }
   },
   "outputs": [
    {
     "output_type": "display_data",
     "data": {
      "text/plain": [
       ""
      ]
     },
     "metadata": {
      "application/vnd.databricks.v1+output": {
       "arguments": {},
       "data": "",
       "errorSummary": "Command skipped",
       "errorTraceType": "ansi",
       "metadata": {},
       "type": "ipynbError"
      }
     },
     "output_type": "display_data"
    }
   ],
   "source": [
    "df_left_outer_join = df1.alias(\"a\").join(df2.alias(\"b\"),col(\"a.CustomerID\")==col(\"b.CustomerID\"),\"left_outer\")\n",
    "df_left_outer_join.show(truncate=False)"
   ]
  },
  {
   "cell_type": "code",
   "execution_count": 0,
   "metadata": {
    "application/vnd.databricks.v1+cell": {
     "cellMetadata": {
      "byteLimit": 2048000,
      "rowLimit": 10000
     },
     "inputWidgets": {},
     "nuid": "890757b1-94bb-4c43-bf8d-fa9eab43ce30",
     "showTitle": false,
     "title": ""
    }
   },
   "outputs": [
    {
     "output_type": "display_data",
     "data": {
      "text/plain": [
       ""
      ]
     },
     "metadata": {
      "application/vnd.databricks.v1+output": {
       "arguments": {},
       "data": "",
       "errorSummary": "Command skipped",
       "errorTraceType": "ansi",
       "metadata": {},
       "type": "ipynbError"
      }
     },
     "output_type": "display_data"
    }
   ],
   "source": [
    "df_inner = df1.alias(\"a\").join(df2.alias(\"b\"),col(\"a.CustomerID\")==col(\"b.CustomerID\"),\"inner\").select(col(\"a.*\"),col(\"b.CustomerName\"),col(\"b.ContactName\"),col(\"b.Country\"))\n",
    "\n",
    "df_inner.show(truncate=False)"
   ]
  },
  {
   "cell_type": "code",
   "execution_count": 0,
   "metadata": {
    "application/vnd.databricks.v1+cell": {
     "cellMetadata": {
      "byteLimit": 2048000,
      "rowLimit": 10000
     },
     "inputWidgets": {},
     "nuid": "8137f8d0-d538-4a88-baec-9bb08854a9c5",
     "showTitle": false,
     "title": ""
    }
   },
   "outputs": [
    {
     "output_type": "display_data",
     "data": {
      "text/plain": [
       ""
      ]
     },
     "metadata": {
      "application/vnd.databricks.v1+output": {
       "arguments": {},
       "data": "",
       "errorSummary": "Command skipped",
       "errorTraceType": "ansi",
       "metadata": {},
       "type": "ipynbError"
      }
     },
     "output_type": "display_data"
    }
   ],
   "source": [
    "df_left_outer = df1.alias(\"a\").join(df2.alias(\"b\"),col(\"a.CustomerID\")==col(\"b.CustomerID\"),\"left_outer\").select(col(\"a.*\").col(\"b.CustomerName\"),col(\"b.ContactName\"),col(\"b.Country\"))"
   ]
  },
  {
   "cell_type": "code",
   "execution_count": 0,
   "metadata": {
    "application/vnd.databricks.v1+cell": {
     "cellMetadata": {
      "byteLimit": 2048000,
      "rowLimit": 10000
     },
     "inputWidgets": {},
     "nuid": "2ad92426-6fab-4a4b-a040-4bb8b347ca67",
     "showTitle": false,
     "title": ""
    }
   },
   "outputs": [
    {
     "output_type": "stream",
     "name": "stdout",
     "output_type": "stream",
     "text": [
      "+----------+---------+----------+----------+------------+-----------+-------+\n|CustomerID|OrderName|OrderDate |CustomerId|CustomerName|ContactName|Country|\n+----------+---------+----------+----------+------------+-----------+-------+\n|null      |null     |null      |1         |Krishna     |Maria      |Germany|\n|2         |laptop   |2020-12-01|2         |rama        |ana        |Mexico |\n|null      |null     |null      |3         |sai         |Antonio    |Mexico |\n+----------+---------+----------+----------+------------+-----------+-------+\n\n"
     ]
    }
   ],
   "source": [
    "#right, # right outer\n",
    "\n",
    "df_right_outer = df1.join(df2,df1.CustomerID==df2.CustomerId,\"right\")\n",
    "df_right_outer.show(truncate=False)"
   ]
  },
  {
   "cell_type": "code",
   "execution_count": 0,
   "metadata": {
    "application/vnd.databricks.v1+cell": {
     "cellMetadata": {
      "byteLimit": 2048000,
      "rowLimit": 10000
     },
     "inputWidgets": {},
     "nuid": "f762517f-741a-4d88-ab91-79f86943d1be",
     "showTitle": false,
     "title": ""
    }
   },
   "outputs": [
    {
     "output_type": "stream",
     "name": "stdout",
     "output_type": "stream",
     "text": [
      "+----------+------------+-----------+-------+---------+----------+\n|CustomerId|CustomerName|ContactName|Country|OrderName|OrderDate |\n+----------+------------+-----------+-------+---------+----------+\n|1         |Krishna     |Maria      |Germany|null     |null      |\n|2         |rama        |ana        |Mexico |laptop   |2020-12-01|\n|3         |sai         |Antonio    |Mexico |null     |null      |\n+----------+------------+-----------+-------+---------+----------+\n\n"
     ]
    }
   ],
   "source": [
    "from pyspark.sql.functions import col\n",
    "df_right_outer = df1.alias(\"a\").join(df2.alias(\"b\"),col(\"a.CustomerID\")==col(\"b.CustomerId\"),\"right\").select(col(\"b.*\"),col(\"a.OrderName\"),col(\"a.OrderDate\"))\n",
    "df_right_outer.show(truncate=False)"
   ]
  },
  {
   "cell_type": "code",
   "execution_count": 0,
   "metadata": {
    "application/vnd.databricks.v1+cell": {
     "cellMetadata": {
      "byteLimit": 2048000,
      "rowLimit": 10000
     },
     "inputWidgets": {},
     "nuid": "795ec37b-4c2b-43ea-97f3-07b6df9bfd6a",
     "showTitle": false,
     "title": ""
    }
   },
   "outputs": [
    {
     "output_type": "stream",
     "name": "stdout",
     "output_type": "stream",
     "text": [
      "+----------+---------+----------+----------+------------+-----------+-------+\n|CustomerID|OrderName|OrderDate |CustomerId|CustomerName|ContactName|Country|\n+----------+---------+----------+----------+------------+-----------+-------+\n|null      |null     |null      |1         |Krishna     |Maria      |Germany|\n|2         |laptop   |2020-12-01|2         |rama        |ana        |Mexico |\n|null      |null     |null      |3         |sai         |Antonio    |Mexico |\n|37        |Mobile   |2020-12-02|null      |null        |null       |null   |\n|77        |Tv       |2020-12-03|null      |null        |null       |null   |\n+----------+---------+----------+----------+------------+-----------+-------+\n\n"
     ]
    }
   ],
   "source": [
    "#full_outer, fullouter, outer \n",
    "\n",
    "# It give all data from both table\n",
    "df_outer = df1.join(df2,df1.CustomerID==df2.CustomerId,\"outer\")\n",
    "df_outer.show(truncate=False)"
   ]
  },
  {
   "cell_type": "code",
   "execution_count": 0,
   "metadata": {
    "application/vnd.databricks.v1+cell": {
     "cellMetadata": {
      "byteLimit": 2048000,
      "rowLimit": 10000
     },
     "inputWidgets": {},
     "nuid": "b8f3a88b-7c75-443a-8171-a8753e2e3022",
     "showTitle": false,
     "title": ""
    }
   },
   "outputs": [
    {
     "output_type": "stream",
     "name": "stdout",
     "output_type": "stream",
     "text": [
      "+----------+---------+----------+----------+------------+-----------+-------+\n|CustomerID|OrderName|OrderDate |CustomerId|CustomerName|ContactName|Country|\n+----------+---------+----------+----------+------------+-----------+-------+\n|null      |null     |null      |1         |Krishna     |Maria      |Germany|\n|2         |laptop   |2020-12-01|2         |rama        |ana        |Mexico |\n|null      |null     |null      |3         |sai         |Antonio    |Mexico |\n|37        |Mobile   |2020-12-02|null      |null        |null       |null   |\n|77        |Tv       |2020-12-03|null      |null        |null       |null   |\n+----------+---------+----------+----------+------------+-----------+-------+\n\n"
     ]
    }
   ],
   "source": [
    "from pyspark.sql.functions import col\n",
    "\n",
    "df_outer = df1.alias(\"a\").join(df2.alias(\"b\"),col(\"a.CustomerID\")==col(\"b.CustomerId\"),\"outer\")\n",
    "df_outer.show(truncate=False)"
   ]
  },
  {
   "cell_type": "code",
   "execution_count": 0,
   "metadata": {
    "application/vnd.databricks.v1+cell": {
     "cellMetadata": {
      "byteLimit": 2048000,
      "rowLimit": 10000
     },
     "inputWidgets": {},
     "nuid": "4368f8a1-a138-4271-a024-57d02f00f2aa",
     "showTitle": false,
     "title": ""
    }
   },
   "outputs": [
    {
     "output_type": "stream",
     "name": "stdout",
     "output_type": "stream",
     "text": [
      "+----------+---------+----------+\n|CustomerID|OrderName|OrderDate |\n+----------+---------+----------+\n|2         |laptop   |2020-12-01|\n+----------+---------+----------+\n\n"
     ]
    }
   ],
   "source": [
    "#semi, leftsemi, left_semi\n",
    "#common records between both tables and get columns from only left table#\n",
    "df_left_semi = df1.join(df2,df1[\"CustomerID\"]==df2[\"CustomerId\"],\"leftsemi\")\n",
    "df_left_semi.show(truncate=False)"
   ]
  },
  {
   "cell_type": "code",
   "execution_count": 0,
   "metadata": {
    "application/vnd.databricks.v1+cell": {
     "cellMetadata": {
      "byteLimit": 2048000,
      "rowLimit": 10000
     },
     "inputWidgets": {},
     "nuid": "89a241d3-1896-4754-a937-aab061bec909",
     "showTitle": false,
     "title": ""
    }
   },
   "outputs": [
    {
     "output_type": "stream",
     "name": "stdout",
     "output_type": "stream",
     "text": [
      "+----------+---------+----------+\n|CustomerID|OrderName|OrderDate |\n+----------+---------+----------+\n|37        |Mobile   |2020-12-02|\n|77        |Tv       |2020-12-03|\n+----------+---------+----------+\n\n"
     ]
    }
   ],
   "source": [
    "#leftanti, anti, left_anti\n",
    "#it give unmatch record from left table\n",
    "\n",
    "df_left_anti = df1.join(df2,df1.CustomerID==df2.CustomerId,\"leftanti\")\n",
    "\n",
    "df_left_anti.show(truncate=False)"
   ]
  },
  {
   "cell_type": "code",
   "execution_count": 0,
   "metadata": {
    "application/vnd.databricks.v1+cell": {
     "cellMetadata": {
      "byteLimit": 2048000,
      "rowLimit": 10000
     },
     "inputWidgets": {},
     "nuid": "bc01c47a-0a65-4fc6-9f66-beef215f460f",
     "showTitle": false,
     "title": ""
    }
   },
   "outputs": [
    {
     "output_type": "stream",
     "name": "stdout",
     "output_type": "stream",
     "text": [
      "+----------+---------+----------+----------+------------+-----------+-------+\n|CustomerID|OrderName|OrderDate |CustomerId|CustomerName|ContactName|Country|\n+----------+---------+----------+----------+------------+-----------+-------+\n|2         |laptop   |2020-12-01|1         |Krishna     |Maria      |Germany|\n|2         |laptop   |2020-12-01|2         |rama        |ana        |Mexico |\n|2         |laptop   |2020-12-01|3         |sai         |Antonio    |Mexico |\n|37        |Mobile   |2020-12-02|1         |Krishna     |Maria      |Germany|\n|37        |Mobile   |2020-12-02|2         |rama        |ana        |Mexico |\n|37        |Mobile   |2020-12-02|3         |sai         |Antonio    |Mexico |\n|77        |Tv       |2020-12-03|1         |Krishna     |Maria      |Germany|\n|77        |Tv       |2020-12-03|2         |rama        |ana        |Mexico |\n|77        |Tv       |2020-12-03|3         |sai         |Antonio    |Mexico |\n+----------+---------+----------+----------+------------+-----------+-------+\n\n"
     ]
    }
   ],
   "source": [
    "# cartesian product from both tables\n",
    "\n",
    "df_cross = df1.crossJoin(df2)\n",
    "df_cross.show(truncate=False)"
   ]
  },
  {
   "cell_type": "code",
   "execution_count": 0,
   "metadata": {
    "application/vnd.databricks.v1+cell": {
     "cellMetadata": {
      "byteLimit": 2048000,
      "rowLimit": 10000
     },
     "inputWidgets": {},
     "nuid": "2bcf3c2c-a1da-4ed9-86e8-e536ea3e1c40",
     "showTitle": false,
     "title": ""
    }
   },
   "outputs": [
    {
     "output_type": "stream",
     "name": "stdout",
     "output_type": "stream",
     "text": [
      "+----------+---------+----------+-------+\n|CustomerID|OrderName| OrderDate|Country|\n+----------+---------+----------+-------+\n|         2|   laptop|2020-12-01| Mexico|\n|         1|   Mobile|2020-12-02|Germany|\n|         1|       Tv|2020-12-03| Mexico|\n+----------+---------+----------+-------+\n\nNone\n+----------+------------+-----------+-------+\n|CustomerId|CustomerName|ContactName|Country|\n+----------+------------+-----------+-------+\n|         1|     Krishna|      Maria|Germany|\n|         2|        rama|        ana| Mexico|\n|         3|         sai|    Antonio| Mexico|\n+----------+------------+-----------+-------+\n\nNone\n"
     ]
    }
   ],
   "source": [
    "df_new1 = spark.createDataFrame([(2,'laptop','2020-12-01','Mexico'),(1,'Mobile','2020-12-02','Germany'),(1,'Tv','2020-12-03','Mexico')],['CustomerID','OrderName','OrderDate','Country'])\n",
    "\n",
    "\n",
    "df_new2 = spark.createDataFrame([(1,'Krishna','Maria','Germany'),(2,'rama','ana','Mexico'),(3,'sai','Antonio','Mexico')],\n",
    "['CustomerId','CustomerName','ContactName','Country'])\n",
    "\n",
    "print(df_new1.show())\n",
    "print(df_new2.show())"
   ]
  },
  {
   "cell_type": "code",
   "execution_count": 0,
   "metadata": {
    "application/vnd.databricks.v1+cell": {
     "cellMetadata": {
      "byteLimit": 2048000,
      "rowLimit": 10000
     },
     "inputWidgets": {},
     "nuid": "69bc5285-cadc-46f3-af21-c4e39e35ac8a",
     "showTitle": false,
     "title": ""
    }
   },
   "outputs": [
    {
     "output_type": "stream",
     "name": "stdout",
     "output_type": "stream",
     "text": [
      "+----------+---------+----------+-------+----------+------------+-----------+-------+\n|CustomerID|OrderName|OrderDate |Country|CustomerId|CustomerName|ContactName|Country|\n+----------+---------+----------+-------+----------+------------+-----------+-------+\n|1         |Mobile   |2020-12-02|Germany|1         |Krishna     |Maria      |Germany|\n|1         |Tv       |2020-12-03|Mexico |1         |Krishna     |Maria      |Germany|\n|2         |laptop   |2020-12-01|Mexico |2         |rama        |ana        |Mexico |\n+----------+---------+----------+-------+----------+------------+-----------+-------+\n\n"
     ]
    }
   ],
   "source": [
    "df_advane_join = df_new1.join(df_new2,df_new1.CustomerID==df_new2.CustomerId,\"inner\")\n",
    "df_advane_join.show(truncate=False)"
   ]
  },
  {
   "cell_type": "code",
   "execution_count": 0,
   "metadata": {
    "application/vnd.databricks.v1+cell": {
     "cellMetadata": {
      "byteLimit": 2048000,
      "rowLimit": 10000
     },
     "inputWidgets": {},
     "nuid": "25e91509-f350-4ecb-b891-96fe9dd50310",
     "showTitle": false,
     "title": ""
    }
   },
   "outputs": [
    {
     "output_type": "stream",
     "name": "stdout",
     "output_type": "stream",
     "text": [
      "+----------+---------+----------+-------+----------+------------+-----------+-------+\n|CustomerID|OrderName|OrderDate |Country|CustomerId|CustomerName|ContactName|Country|\n+----------+---------+----------+-------+----------+------------+-----------+-------+\n|1         |Mobile   |2020-12-02|Germany|1         |Krishna     |Maria      |Germany|\n|1         |Tv       |2020-12-03|Mexico |1         |Krishna     |Maria      |Germany|\n|2         |laptop   |2020-12-01|Mexico |2         |rama        |ana        |Mexico |\n+----------+---------+----------+-------+----------+------------+-----------+-------+\n\n"
     ]
    }
   ],
   "source": [
    "df_advance_join = df_new1.join(df_new2,((df_new1.CustomerID==df_new2.CustomerId) & (df_new1.Country==df_new2.Country)),\"inner\")\n",
    "\n",
    "df_advane_join.show(truncate=False)"
   ]
  },
  {
   "cell_type": "code",
   "execution_count": 0,
   "metadata": {
    "application/vnd.databricks.v1+cell": {
     "cellMetadata": {},
     "inputWidgets": {},
     "nuid": "a0c55804-62a8-4f86-a6fc-7fde461e6a47",
     "showTitle": false,
     "title": ""
    }
   },
   "outputs": [],
   "source": []
  }
 ],
 "metadata": {
  "application/vnd.databricks.v1+notebook": {
   "dashboards": [],
   "environmentMetadata": null,
   "language": "python",
   "notebookMetadata": {
    "pythonIndentUnit": 4
   },
   "notebookName": "All Joins in Pyspark",
   "widgets": {}
  }
 },
 "nbformat": 4,
 "nbformat_minor": 0
}
