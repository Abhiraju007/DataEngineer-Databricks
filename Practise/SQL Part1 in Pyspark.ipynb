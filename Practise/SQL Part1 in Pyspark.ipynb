{
 "cells": [
  {
   "cell_type": "code",
   "execution_count": 0,
   "metadata": {
    "application/vnd.databricks.v1+cell": {
     "cellMetadata": {
      "byteLimit": 2048000,
      "rowLimit": 10000
     },
     "inputWidgets": {},
     "nuid": "0c0e7a11-e21b-430a-8a01-84290046a5be",
     "showTitle": false,
     "title": ""
    }
   },
   "outputs": [
    {
     "output_type": "display_data",
     "data": {
      "text/html": [
       "<style scoped>\n",
       "  .table-result-container {\n",
       "    max-height: 300px;\n",
       "    overflow: auto;\n",
       "  }\n",
       "  table, th, td {\n",
       "    border: 1px solid black;\n",
       "    border-collapse: collapse;\n",
       "  }\n",
       "  th, td {\n",
       "    padding: 5px;\n",
       "  }\n",
       "  th {\n",
       "    text-align: left;\n",
       "  }\n",
       "</style><div class='table-result-container'><table class='table-result'><thead style='background-color: white'><tr><th>credit_id</th><th>credit_type</th><th>credit_name</th><th>credit_score</th></tr></thead><tbody><tr><td>1</td><td>Master</td><td>cloudpandith</td><td>978</td></tr><tr><td>1</td><td>visa</td><td>cloudpandith</td><td>978</td></tr><tr><td>2</td><td>Master</td><td>rama</td><td>770</td></tr><tr><td>2</td><td>Visa</td><td>rama</td><td>1240</td></tr><tr><td>3</td><td>Master</td><td>Krishna</td><td>1140</td></tr><tr><td>3</td><td>visa</td><td>Krishna</td><td>1140</td></tr><tr><td>6</td><td>Master</td><td>srinu</td><td>1240</td></tr></tbody></table></div>"
      ]
     },
     "metadata": {
      "application/vnd.databricks.v1+output": {
       "addedWidgets": {},
       "aggData": [],
       "aggError": "",
       "aggOverflow": false,
       "aggSchema": [],
       "aggSeriesLimitReached": false,
       "aggType": "",
       "arguments": {},
       "columnCustomDisplayInfos": {},
       "data": [
        [
         1,
         "Master",
         "cloudpandith",
         978
        ],
        [
         1,
         "visa",
         "cloudpandith",
         978
        ],
        [
         2,
         "Master",
         "rama",
         770
        ],
        [
         2,
         "Visa",
         "rama",
         1240
        ],
        [
         3,
         "Master",
         "Krishna",
         1140
        ],
        [
         3,
         "visa",
         "Krishna",
         1140
        ],
        [
         6,
         "Master",
         "srinu",
         1240
        ]
       ],
       "datasetInfos": [],
       "dbfsResultPath": null,
       "isJsonSchema": true,
       "metadata": {},
       "overflow": false,
       "plotOptions": {
        "customPlotOptions": {},
        "displayType": "table",
        "pivotAggregation": null,
        "pivotColumns": null,
        "xColumns": null,
        "yColumns": null
       },
       "removedWidgets": [],
       "schema": [
        {
         "metadata": "{}",
         "name": "credit_id",
         "type": "\"long\""
        },
        {
         "metadata": "{}",
         "name": "credit_type",
         "type": "\"string\""
        },
        {
         "metadata": "{}",
         "name": "credit_name",
         "type": "\"string\""
        },
        {
         "metadata": "{}",
         "name": "credit_score",
         "type": "\"long\""
        }
       ],
       "type": "table"
      }
     },
     "output_type": "display_data"
    }
   ],
   "source": [
    "df = spark.createDataFrame([(1,'Master','cloudpandith',978),(1,'visa','cloudpandith',978),(2,'Master','rama',770),\n",
    " (2,'Visa','rama',1240),(3,'Master','Krishna',1140),(3,'visa','Krishna',1140),(6,'Master','srinu',1240)],                    \n",
    "['credit_id','credit_type','credit_name','credit_score'])\n",
    "display(df)"
   ]
  },
  {
   "cell_type": "code",
   "execution_count": 0,
   "metadata": {
    "application/vnd.databricks.v1+cell": {
     "cellMetadata": {
      "byteLimit": 2048000,
      "rowLimit": 10000
     },
     "inputWidgets": {},
     "nuid": "58a19c6a-1cb9-41f9-b6b9-51eb3873cf39",
     "showTitle": false,
     "title": ""
    }
   },
   "outputs": [
    {
     "output_type": "stream",
     "name": "stdout",
     "output_type": "stream",
     "text": [
      "+---------+-----------+------------+------------+--------------+\n|credit_id|credit_type| credit_name|credit_score|record_updated|\n+---------+-----------+------------+------------+--------------+\n|        1|     Master|cloudpandith|         978|    2024-04-29|\n|        1|       visa|cloudpandith|         978|    2024-04-29|\n|        2|     Master|        rama|         770|    2024-04-29|\n|        2|       Visa|        rama|        1240|    2024-04-29|\n|        3|     Master|     Krishna|        1140|    2024-04-29|\n|        3|       visa|     Krishna|        1140|    2024-04-29|\n|        6|     Master|       srinu|        1240|    2024-04-29|\n+---------+-----------+------------+------------+--------------+\n\n"
     ]
    }
   ],
   "source": [
    "#To add new column in data we use withColumn\n",
    "from pyspark.sql.functions import current_date\n",
    "df_date = df.withColumn('record_updated',current_date())\n",
    "df_date.show()"
   ]
  },
  {
   "cell_type": "code",
   "execution_count": 0,
   "metadata": {
    "application/vnd.databricks.v1+cell": {
     "cellMetadata": {
      "byteLimit": 2048000,
      "rowLimit": 10000
     },
     "inputWidgets": {},
     "nuid": "9ad943c8-2ed4-4443-bdd8-c67e98ad84aa",
     "showTitle": false,
     "title": ""
    }
   },
   "outputs": [
    {
     "output_type": "stream",
     "name": "stdout",
     "output_type": "stream",
     "text": [
      "+---------+-----------+------------+------------+--------------+-----------------+\n|credit_id|credit_type| credit_name|credit_score|record_updated|record updated by|\n+---------+-----------+------------+------------+--------------+-----------------+\n|        1|     Master|cloudpandith|         978|    2024-04-29|         Abhishek|\n|        1|       visa|cloudpandith|         978|    2024-04-29|         Abhishek|\n|        2|     Master|        rama|         770|    2024-04-29|         Abhishek|\n|        2|       Visa|        rama|        1240|    2024-04-29|         Abhishek|\n|        3|     Master|     Krishna|        1140|    2024-04-29|         Abhishek|\n|        3|       visa|     Krishna|        1140|    2024-04-29|         Abhishek|\n|        6|     Master|       srinu|        1240|    2024-04-29|         Abhishek|\n+---------+-----------+------------+------------+--------------+-----------------+\n\n"
     ]
    }
   ],
   "source": [
    "from pyspark.sql.functions import lit\n",
    "df_date = df_date.withColumn('record updated by',lit('Abhishek'))\n",
    "df_date.show()"
   ]
  },
  {
   "cell_type": "code",
   "execution_count": 0,
   "metadata": {
    "application/vnd.databricks.v1+cell": {
     "cellMetadata": {
      "byteLimit": 2048000,
      "rowLimit": 10000
     },
     "inputWidgets": {},
     "nuid": "d771aa01-d429-472b-8fd4-022e8f2a6c8c",
     "showTitle": false,
     "title": ""
    }
   },
   "outputs": [
    {
     "output_type": "display_data",
     "data": {
      "text/html": [
       "<style scoped>\n",
       "  .table-result-container {\n",
       "    max-height: 300px;\n",
       "    overflow: auto;\n",
       "  }\n",
       "  table, th, td {\n",
       "    border: 1px solid black;\n",
       "    border-collapse: collapse;\n",
       "  }\n",
       "  th, td {\n",
       "    padding: 5px;\n",
       "  }\n",
       "  th {\n",
       "    text-align: left;\n",
       "  }\n",
       "</style><div class='table-result-container'><table class='table-result'><thead style='background-color: white'><tr><th>credit_id</th><th>credit_type</th><th>credit_name</th><th>credit_score</th><th>record_updated</th><th>record updated by</th><th>printed_timestamp</th></tr></thead><tbody><tr><td>1</td><td>Master</td><td>cloudpandith</td><td>978</td><td>2024-04-29</td><td>Abhishek</td><td>2024-04-29T07:07:31.925+0000</td></tr><tr><td>1</td><td>visa</td><td>cloudpandith</td><td>978</td><td>2024-04-29</td><td>Abhishek</td><td>2024-04-29T07:07:31.925+0000</td></tr><tr><td>2</td><td>Master</td><td>rama</td><td>770</td><td>2024-04-29</td><td>Abhishek</td><td>2024-04-29T07:07:31.925+0000</td></tr><tr><td>2</td><td>Visa</td><td>rama</td><td>1240</td><td>2024-04-29</td><td>Abhishek</td><td>2024-04-29T07:07:31.925+0000</td></tr><tr><td>3</td><td>Master</td><td>Krishna</td><td>1140</td><td>2024-04-29</td><td>Abhishek</td><td>2024-04-29T07:07:31.925+0000</td></tr><tr><td>3</td><td>visa</td><td>Krishna</td><td>1140</td><td>2024-04-29</td><td>Abhishek</td><td>2024-04-29T07:07:31.925+0000</td></tr><tr><td>6</td><td>Master</td><td>srinu</td><td>1240</td><td>2024-04-29</td><td>Abhishek</td><td>2024-04-29T07:07:31.925+0000</td></tr></tbody></table></div>"
      ]
     },
     "metadata": {
      "application/vnd.databricks.v1+output": {
       "addedWidgets": {},
       "aggData": [],
       "aggError": "",
       "aggOverflow": false,
       "aggSchema": [],
       "aggSeriesLimitReached": false,
       "aggType": "",
       "arguments": {},
       "columnCustomDisplayInfos": {},
       "data": [
        [
         1,
         "Master",
         "cloudpandith",
         978,
         "2024-04-29",
         "Abhishek",
         "2024-04-29T07:07:31.925+0000"
        ],
        [
         1,
         "visa",
         "cloudpandith",
         978,
         "2024-04-29",
         "Abhishek",
         "2024-04-29T07:07:31.925+0000"
        ],
        [
         2,
         "Master",
         "rama",
         770,
         "2024-04-29",
         "Abhishek",
         "2024-04-29T07:07:31.925+0000"
        ],
        [
         2,
         "Visa",
         "rama",
         1240,
         "2024-04-29",
         "Abhishek",
         "2024-04-29T07:07:31.925+0000"
        ],
        [
         3,
         "Master",
         "Krishna",
         1140,
         "2024-04-29",
         "Abhishek",
         "2024-04-29T07:07:31.925+0000"
        ],
        [
         3,
         "visa",
         "Krishna",
         1140,
         "2024-04-29",
         "Abhishek",
         "2024-04-29T07:07:31.925+0000"
        ],
        [
         6,
         "Master",
         "srinu",
         1240,
         "2024-04-29",
         "Abhishek",
         "2024-04-29T07:07:31.925+0000"
        ]
       ],
       "datasetInfos": [],
       "dbfsResultPath": null,
       "isJsonSchema": true,
       "metadata": {},
       "overflow": false,
       "plotOptions": {
        "customPlotOptions": {},
        "displayType": "table",
        "pivotAggregation": null,
        "pivotColumns": null,
        "xColumns": null,
        "yColumns": null
       },
       "removedWidgets": [],
       "schema": [
        {
         "metadata": "{}",
         "name": "credit_id",
         "type": "\"long\""
        },
        {
         "metadata": "{}",
         "name": "credit_type",
         "type": "\"string\""
        },
        {
         "metadata": "{}",
         "name": "credit_name",
         "type": "\"string\""
        },
        {
         "metadata": "{}",
         "name": "credit_score",
         "type": "\"long\""
        },
        {
         "metadata": "{}",
         "name": "record_updated",
         "type": "\"date\""
        },
        {
         "metadata": "{}",
         "name": "record updated by",
         "type": "\"string\""
        },
        {
         "metadata": "{}",
         "name": "printed_timestamp",
         "type": "\"timestamp\""
        }
       ],
       "type": "table"
      }
     },
     "output_type": "display_data"
    }
   ],
   "source": [
    "from pyspark.sql.functions import current_timestamp\n",
    "df_ts = df_date.withColumn('printed_timestamp',current_timestamp())\n",
    "display(df_ts)"
   ]
  },
  {
   "cell_type": "code",
   "execution_count": 0,
   "metadata": {
    "application/vnd.databricks.v1+cell": {
     "cellMetadata": {
      "byteLimit": 2048000,
      "rowLimit": 10000
     },
     "inputWidgets": {},
     "nuid": "bfc4eec2-aad0-4a30-a050-98c9ee938203",
     "showTitle": false,
     "title": ""
    }
   },
   "outputs": [
    {
     "output_type": "stream",
     "name": "stdout",
     "output_type": "stream",
     "text": [
      "+---------+-----------+------------+------------+--------------+-----------------+-----------------------+\n|credit_id|credit_type|credit_name |credit_score|record_updated|record updated by|record_inserted        |\n+---------+-----------+------------+------------+--------------+-----------------+-----------------------+\n|1        |Master     |cloudpandith|978         |2024-04-29    |Abhishek         |2024-04-29 07:09:55.439|\n|1        |visa       |cloudpandith|978         |2024-04-29    |Abhishek         |2024-04-29 07:09:55.439|\n|2        |Master     |rama        |770         |2024-04-29    |Abhishek         |2024-04-29 07:09:55.439|\n|2        |Visa       |rama        |1240        |2024-04-29    |Abhishek         |2024-04-29 07:09:55.439|\n|3        |Master     |Krishna     |1140        |2024-04-29    |Abhishek         |2024-04-29 07:09:55.439|\n|3        |visa       |Krishna     |1140        |2024-04-29    |Abhishek         |2024-04-29 07:09:55.439|\n|6        |Master     |srinu       |1240        |2024-04-29    |Abhishek         |2024-04-29 07:09:55.439|\n+---------+-----------+------------+------------+--------------+-----------------+-----------------------+\n\n"
     ]
    }
   ],
   "source": [
    "#renaming column\n",
    "\n",
    "df_ts1 = df_ts.withColumnRenamed(\"printed_timestamp\",\"record_inserted\")\n",
    "df_ts1.show(truncate=False)"
   ]
  },
  {
   "cell_type": "code",
   "execution_count": 0,
   "metadata": {
    "application/vnd.databricks.v1+cell": {
     "cellMetadata": {
      "byteLimit": 2048000,
      "rowLimit": 10000
     },
     "inputWidgets": {},
     "nuid": "76611754-b65b-4991-8412-bac658b3482f",
     "showTitle": false,
     "title": ""
    }
   },
   "outputs": [
    {
     "output_type": "stream",
     "name": "stdout",
     "output_type": "stream",
     "text": [
      "+-----------+------------+------------+--------------+-----------------+-----------------------+\n|credit_type|credit_name |credit_score|record_updated|record updated by|printed_timestamp      |\n+-----------+------------+------------+--------------+-----------------+-----------------------+\n|Master     |cloudpandith|978         |2024-04-29    |Abhishek         |2024-04-29 07:16:35.434|\n|visa       |cloudpandith|978         |2024-04-29    |Abhishek         |2024-04-29 07:16:35.434|\n|Master     |rama        |770         |2024-04-29    |Abhishek         |2024-04-29 07:16:35.434|\n|Visa       |rama        |1240        |2024-04-29    |Abhishek         |2024-04-29 07:16:35.434|\n|Master     |Krishna     |1140        |2024-04-29    |Abhishek         |2024-04-29 07:16:35.434|\n|visa       |Krishna     |1140        |2024-04-29    |Abhishek         |2024-04-29 07:16:35.434|\n|Master     |srinu       |1240        |2024-04-29    |Abhishek         |2024-04-29 07:16:35.434|\n+-----------+------------+------------+--------------+-----------------+-----------------------+\n\n"
     ]
    }
   ],
   "source": [
    "# drop column\n",
    "\n",
    "df_drop = df_ts.drop(\"credit_id\")\n",
    "df_drop.show(truncate = False)"
   ]
  },
  {
   "cell_type": "code",
   "execution_count": 0,
   "metadata": {
    "application/vnd.databricks.v1+cell": {
     "cellMetadata": {
      "byteLimit": 2048000,
      "rowLimit": 10000
     },
     "inputWidgets": {},
     "nuid": "f15f389b-92a1-43d9-a63f-d2aa765d165d",
     "showTitle": false,
     "title": ""
    }
   },
   "outputs": [
    {
     "output_type": "stream",
     "name": "stdout",
     "output_type": "stream",
     "text": [
      "+-----------+------------+------------+\n|credit_type|credit_name |credit_score|\n+-----------+------------+------------+\n|Master     |cloudpandith|978         |\n|visa       |cloudpandith|978         |\n|Master     |rama        |770         |\n|Visa       |rama        |1240        |\n|Master     |Krishna     |1140        |\n|visa       |Krishna     |1140        |\n|Master     |srinu       |1240        |\n+-----------+------------+------------+\n\n"
     ]
    }
   ],
   "source": [
    "# drop multiple column\n",
    "\n",
    "df_drop1 = df_drop.drop(\"record_updated\",\"printed_timestamp\",\"record updated by\")\n",
    "df_drop1.show(truncate=False)"
   ]
  },
  {
   "cell_type": "code",
   "execution_count": 0,
   "metadata": {
    "application/vnd.databricks.v1+cell": {
     "cellMetadata": {
      "byteLimit": 2048000,
      "rowLimit": 10000
     },
     "inputWidgets": {},
     "nuid": "e68a4411-0b33-487b-834a-cc0a47b17006",
     "showTitle": false,
     "title": ""
    }
   },
   "outputs": [
    {
     "output_type": "display_data",
     "data": {
      "text/html": [
       "<style scoped>\n",
       "  .table-result-container {\n",
       "    max-height: 300px;\n",
       "    overflow: auto;\n",
       "  }\n",
       "  table, th, td {\n",
       "    border: 1px solid black;\n",
       "    border-collapse: collapse;\n",
       "  }\n",
       "  th, td {\n",
       "    padding: 5px;\n",
       "  }\n",
       "  th {\n",
       "    text-align: left;\n",
       "  }\n",
       "</style><div class='table-result-container'><table class='table-result'><thead style='background-color: white'><tr><th>credit_type</th><th>credit_name</th><th>credit_score</th><th>description</th></tr></thead><tbody><tr><td>Master</td><td>cloudpandith</td><td>978</td><td>Master-cloudpandith</td></tr><tr><td>visa</td><td>cloudpandith</td><td>978</td><td>visa-cloudpandith</td></tr><tr><td>Master</td><td>rama</td><td>770</td><td>Master-rama</td></tr><tr><td>Visa</td><td>rama</td><td>1240</td><td>Visa-rama</td></tr><tr><td>Master</td><td>Krishna</td><td>1140</td><td>Master-Krishna</td></tr><tr><td>visa</td><td>Krishna</td><td>1140</td><td>visa-Krishna</td></tr><tr><td>Master</td><td>srinu</td><td>1240</td><td>Master-srinu</td></tr></tbody></table></div>"
      ]
     },
     "metadata": {
      "application/vnd.databricks.v1+output": {
       "addedWidgets": {},
       "aggData": [],
       "aggError": "",
       "aggOverflow": false,
       "aggSchema": [],
       "aggSeriesLimitReached": false,
       "aggType": "",
       "arguments": {},
       "columnCustomDisplayInfos": {},
       "data": [
        [
         "Master",
         "cloudpandith",
         978,
         "Master-cloudpandith"
        ],
        [
         "visa",
         "cloudpandith",
         978,
         "visa-cloudpandith"
        ],
        [
         "Master",
         "rama",
         770,
         "Master-rama"
        ],
        [
         "Visa",
         "rama",
         1240,
         "Visa-rama"
        ],
        [
         "Master",
         "Krishna",
         1140,
         "Master-Krishna"
        ],
        [
         "visa",
         "Krishna",
         1140,
         "visa-Krishna"
        ],
        [
         "Master",
         "srinu",
         1240,
         "Master-srinu"
        ]
       ],
       "datasetInfos": [],
       "dbfsResultPath": null,
       "isJsonSchema": true,
       "metadata": {},
       "overflow": false,
       "plotOptions": {
        "customPlotOptions": {},
        "displayType": "table",
        "pivotAggregation": null,
        "pivotColumns": null,
        "xColumns": null,
        "yColumns": null
       },
       "removedWidgets": [],
       "schema": [
        {
         "metadata": "{}",
         "name": "credit_type",
         "type": "\"string\""
        },
        {
         "metadata": "{}",
         "name": "credit_name",
         "type": "\"string\""
        },
        {
         "metadata": "{}",
         "name": "credit_score",
         "type": "\"long\""
        },
        {
         "metadata": "{}",
         "name": "description",
         "type": "\"string\""
        }
       ],
       "type": "table"
      }
     },
     "output_type": "display_data"
    }
   ],
   "source": [
    "#concenate column\n",
    "\n",
    "from pyspark.sql.functions import concat,lit\n",
    "\n",
    "df_concat = df_drop1.withColumn(\"description\",concat(df_drop1.credit_type,lit(\"-\"),df_drop1.credit_name))\n",
    "display(df_concat)"
   ]
  },
  {
   "cell_type": "code",
   "execution_count": 0,
   "metadata": {
    "application/vnd.databricks.v1+cell": {
     "cellMetadata": {
      "byteLimit": 2048000,
      "rowLimit": 10000
     },
     "inputWidgets": {},
     "nuid": "929d8e7e-55e6-44e3-b6ba-13243510f5b4",
     "showTitle": false,
     "title": ""
    }
   },
   "outputs": [
    {
     "output_type": "display_data",
     "data": {
      "text/html": [
       "<style scoped>\n",
       "  .table-result-container {\n",
       "    max-height: 300px;\n",
       "    overflow: auto;\n",
       "  }\n",
       "  table, th, td {\n",
       "    border: 1px solid black;\n",
       "    border-collapse: collapse;\n",
       "  }\n",
       "  th, td {\n",
       "    padding: 5px;\n",
       "  }\n",
       "  th {\n",
       "    text-align: left;\n",
       "  }\n",
       "</style><div class='table-result-container'><table class='table-result'><thead style='background-color: white'><tr><th>credit_type</th><th>credit_name</th><th>credit_score</th><th>description</th></tr></thead><tbody><tr><td>Master</td><td>cloudpandith</td><td>978</td><td>Master card is with cloudpandith</td></tr><tr><td>visa</td><td>cloudpandith</td><td>978</td><td>visa card is with cloudpandith</td></tr><tr><td>Master</td><td>rama</td><td>770</td><td>Master card is with rama</td></tr><tr><td>Visa</td><td>rama</td><td>1240</td><td>Visa card is with rama</td></tr><tr><td>Master</td><td>Krishna</td><td>1140</td><td>Master card is with Krishna</td></tr><tr><td>visa</td><td>Krishna</td><td>1140</td><td>visa card is with Krishna</td></tr><tr><td>Master</td><td>srinu</td><td>1240</td><td>Master card is with srinu</td></tr></tbody></table></div>"
      ]
     },
     "metadata": {
      "application/vnd.databricks.v1+output": {
       "addedWidgets": {},
       "aggData": [],
       "aggError": "",
       "aggOverflow": false,
       "aggSchema": [],
       "aggSeriesLimitReached": false,
       "aggType": "",
       "arguments": {},
       "columnCustomDisplayInfos": {},
       "data": [
        [
         "Master",
         "cloudpandith",
         978,
         "Master card is with cloudpandith"
        ],
        [
         "visa",
         "cloudpandith",
         978,
         "visa card is with cloudpandith"
        ],
        [
         "Master",
         "rama",
         770,
         "Master card is with rama"
        ],
        [
         "Visa",
         "rama",
         1240,
         "Visa card is with rama"
        ],
        [
         "Master",
         "Krishna",
         1140,
         "Master card is with Krishna"
        ],
        [
         "visa",
         "Krishna",
         1140,
         "visa card is with Krishna"
        ],
        [
         "Master",
         "srinu",
         1240,
         "Master card is with srinu"
        ]
       ],
       "datasetInfos": [],
       "dbfsResultPath": null,
       "isJsonSchema": true,
       "metadata": {},
       "overflow": false,
       "plotOptions": {
        "customPlotOptions": {},
        "displayType": "table",
        "pivotAggregation": null,
        "pivotColumns": null,
        "xColumns": null,
        "yColumns": null
       },
       "removedWidgets": [],
       "schema": [
        {
         "metadata": "{}",
         "name": "credit_type",
         "type": "\"string\""
        },
        {
         "metadata": "{}",
         "name": "credit_name",
         "type": "\"string\""
        },
        {
         "metadata": "{}",
         "name": "credit_score",
         "type": "\"long\""
        },
        {
         "metadata": "{}",
         "name": "description",
         "type": "\"string\""
        }
       ],
       "type": "table"
      }
     },
     "output_type": "display_data"
    }
   ],
   "source": [
    "#to giving space we can use onw time with concat_ws\n",
    "from pyspark.sql.functions import concat_ws,col\n",
    "df_concat_ws_1 = df_drop1.withColumn(\"description\",concat_ws(\" \",col(\"credit_type\"),lit(\"card is with\"),col(\"credit_name\")))\n",
    "display(df_concat_ws_1)"
   ]
  },
  {
   "cell_type": "code",
   "execution_count": 0,
   "metadata": {
    "application/vnd.databricks.v1+cell": {
     "cellMetadata": {
      "byteLimit": 2048000,
      "rowLimit": 10000
     },
     "inputWidgets": {},
     "nuid": "c26196d4-387e-480c-b8a2-37d2741f0197",
     "showTitle": false,
     "title": ""
    }
   },
   "outputs": [
    {
     "output_type": "display_data",
     "data": {
      "text/html": [
       "<style scoped>\n",
       "  .table-result-container {\n",
       "    max-height: 300px;\n",
       "    overflow: auto;\n",
       "  }\n",
       "  table, th, td {\n",
       "    border: 1px solid black;\n",
       "    border-collapse: collapse;\n",
       "  }\n",
       "  th, td {\n",
       "    padding: 5px;\n",
       "  }\n",
       "  th {\n",
       "    text-align: left;\n",
       "  }\n",
       "</style><div class='table-result-container'><table class='table-result'><thead style='background-color: white'><tr><th>credit_type</th><th>credit_name</th><th>credit_score</th><th>concat</th><th>concat_ws</th></tr></thead><tbody><tr><td>Master</td><td>cloudpandith</td><td>978</td><td>Master cloudpandithcloudpandith</td><td>Master cloudpandith 978</td></tr><tr><td>visa</td><td>cloudpandith</td><td>978</td><td>visa cloudpandithcloudpandith</td><td>visa cloudpandith 978</td></tr><tr><td>Master</td><td>rama</td><td>770</td><td>Master ramarama</td><td>Master rama 770</td></tr><tr><td>Visa</td><td>rama</td><td>1240</td><td>Visa ramarama</td><td>Visa rama 1240</td></tr><tr><td>Master</td><td>Krishna</td><td>1140</td><td>Master KrishnaKrishna</td><td>Master Krishna 1140</td></tr><tr><td>visa</td><td>Krishna</td><td>1140</td><td>visa KrishnaKrishna</td><td>visa Krishna 1140</td></tr><tr><td>Master</td><td>srinu</td><td>1240</td><td>Master srinusrinu</td><td>Master srinu 1240</td></tr></tbody></table></div>"
      ]
     },
     "metadata": {
      "application/vnd.databricks.v1+output": {
       "addedWidgets": {},
       "aggData": [],
       "aggError": "",
       "aggOverflow": false,
       "aggSchema": [],
       "aggSeriesLimitReached": false,
       "aggType": "",
       "arguments": {},
       "columnCustomDisplayInfos": {},
       "data": [
        [
         "Master",
         "cloudpandith",
         978,
         "Master cloudpandithcloudpandith",
         "Master cloudpandith 978"
        ],
        [
         "visa",
         "cloudpandith",
         978,
         "visa cloudpandithcloudpandith",
         "visa cloudpandith 978"
        ],
        [
         "Master",
         "rama",
         770,
         "Master ramarama",
         "Master rama 770"
        ],
        [
         "Visa",
         "rama",
         1240,
         "Visa ramarama",
         "Visa rama 1240"
        ],
        [
         "Master",
         "Krishna",
         1140,
         "Master KrishnaKrishna",
         "Master Krishna 1140"
        ],
        [
         "visa",
         "Krishna",
         1140,
         "visa KrishnaKrishna",
         "visa Krishna 1140"
        ],
        [
         "Master",
         "srinu",
         1240,
         "Master srinusrinu",
         "Master srinu 1240"
        ]
       ],
       "datasetInfos": [],
       "dbfsResultPath": null,
       "isJsonSchema": true,
       "metadata": {},
       "overflow": false,
       "plotOptions": {
        "customPlotOptions": {},
        "displayType": "table",
        "pivotAggregation": null,
        "pivotColumns": null,
        "xColumns": null,
        "yColumns": null
       },
       "removedWidgets": [],
       "schema": [
        {
         "metadata": "{}",
         "name": "credit_type",
         "type": "\"string\""
        },
        {
         "metadata": "{}",
         "name": "credit_name",
         "type": "\"string\""
        },
        {
         "metadata": "{}",
         "name": "credit_score",
         "type": "\"long\""
        },
        {
         "metadata": "{}",
         "name": "concat",
         "type": "\"string\""
        },
        {
         "metadata": "{}",
         "name": "concat_ws",
         "type": "\"string\""
        }
       ],
       "type": "table"
      }
     },
     "output_type": "display_data"
    }
   ],
   "source": [
    "from pyspark.sql.functions import col,concat,concat_ws\n",
    "df_concat_ws = df_drop1\\\n",
    "    .withColumn(\"concat\",concat(col(\"credit_type\"),lit(\" \"),col(\"credit_name\"),col(\"credit_name\")))\\\n",
    "        .withColumn(\"concat_ws\",concat_ws(\" \",col(\"credit_type\"),col(\"credit_name\"),col(\"credit_score\")))\n",
    "display(df_concat_ws)"
   ]
  },
  {
   "cell_type": "code",
   "execution_count": 0,
   "metadata": {
    "application/vnd.databricks.v1+cell": {
     "cellMetadata": {
      "byteLimit": 2048000,
      "rowLimit": 10000
     },
     "inputWidgets": {},
     "nuid": "686f24c1-6c13-4dfc-9172-1f50550b1aa4",
     "showTitle": false,
     "title": ""
    }
   },
   "outputs": [
    {
     "output_type": "display_data",
     "data": {
      "text/html": [
       "<style scoped>\n",
       "  .table-result-container {\n",
       "    max-height: 300px;\n",
       "    overflow: auto;\n",
       "  }\n",
       "  table, th, td {\n",
       "    border: 1px solid black;\n",
       "    border-collapse: collapse;\n",
       "  }\n",
       "  th, td {\n",
       "    padding: 5px;\n",
       "  }\n",
       "  th {\n",
       "    text-align: left;\n",
       "  }\n",
       "</style><div class='table-result-container'><table class='table-result'><thead style='background-color: white'><tr><th>credit_type</th><th>credit_name</th><th>credit_score</th><th>concat</th><th>concat_ws</th><th>Discount</th></tr></thead><tbody><tr><td>Master</td><td>cloudpandith</td><td>978</td><td>Master cloudpandithcloudpandith</td><td>Master cloudpandith 978</td><td>5%</td></tr><tr><td>visa</td><td>cloudpandith</td><td>978</td><td>visa cloudpandithcloudpandith</td><td>visa cloudpandith 978</td><td>7%</td></tr><tr><td>Master</td><td>rama</td><td>770</td><td>Master ramarama</td><td>Master rama 770</td><td>5%</td></tr><tr><td>Visa</td><td>rama</td><td>1240</td><td>Visa ramarama</td><td>Visa rama 1240</td><td>6%</td></tr><tr><td>Master</td><td>Krishna</td><td>1140</td><td>Master KrishnaKrishna</td><td>Master Krishna 1140</td><td>5%</td></tr><tr><td>visa</td><td>Krishna</td><td>1140</td><td>visa KrishnaKrishna</td><td>visa Krishna 1140</td><td>7%</td></tr><tr><td>Master</td><td>srinu</td><td>1240</td><td>Master srinusrinu</td><td>Master srinu 1240</td><td>5%</td></tr></tbody></table></div>"
      ]
     },
     "metadata": {
      "application/vnd.databricks.v1+output": {
       "addedWidgets": {},
       "aggData": [],
       "aggError": "",
       "aggOverflow": false,
       "aggSchema": [],
       "aggSeriesLimitReached": false,
       "aggType": "",
       "arguments": {},
       "columnCustomDisplayInfos": {},
       "data": [
        [
         "Master",
         "cloudpandith",
         978,
         "Master cloudpandithcloudpandith",
         "Master cloudpandith 978",
         "5%"
        ],
        [
         "visa",
         "cloudpandith",
         978,
         "visa cloudpandithcloudpandith",
         "visa cloudpandith 978",
         "7%"
        ],
        [
         "Master",
         "rama",
         770,
         "Master ramarama",
         "Master rama 770",
         "5%"
        ],
        [
         "Visa",
         "rama",
         1240,
         "Visa ramarama",
         "Visa rama 1240",
         "6%"
        ],
        [
         "Master",
         "Krishna",
         1140,
         "Master KrishnaKrishna",
         "Master Krishna 1140",
         "5%"
        ],
        [
         "visa",
         "Krishna",
         1140,
         "visa KrishnaKrishna",
         "visa Krishna 1140",
         "7%"
        ],
        [
         "Master",
         "srinu",
         1240,
         "Master srinusrinu",
         "Master srinu 1240",
         "5%"
        ]
       ],
       "datasetInfos": [],
       "dbfsResultPath": null,
       "isJsonSchema": true,
       "metadata": {},
       "overflow": false,
       "plotOptions": {
        "customPlotOptions": {},
        "displayType": "table",
        "pivotAggregation": null,
        "pivotColumns": null,
        "xColumns": null,
        "yColumns": null
       },
       "removedWidgets": [],
       "schema": [
        {
         "metadata": "{}",
         "name": "credit_type",
         "type": "\"string\""
        },
        {
         "metadata": "{}",
         "name": "credit_name",
         "type": "\"string\""
        },
        {
         "metadata": "{}",
         "name": "credit_score",
         "type": "\"long\""
        },
        {
         "metadata": "{}",
         "name": "concat",
         "type": "\"string\""
        },
        {
         "metadata": "{}",
         "name": "concat_ws",
         "type": "\"string\""
        },
        {
         "metadata": "{}",
         "name": "Discount",
         "type": "\"string\""
        }
       ],
       "type": "table"
      }
     },
     "output_type": "display_data"
    }
   ],
   "source": [
    "from pyspark.sql.functions import col,when,lit\n",
    "\n",
    "df_when = df_concat_ws.withColumn(\"Discount\",when(col(\"credit_type\")==\"Master\",lit(\"5%\")).when(col(\"credit_type\")==\"Visa\",lit(\"6%\")).otherwise(\"7%\"))\n",
    "\n",
    "display(df_when)"
   ]
  },
  {
   "cell_type": "code",
   "execution_count": 0,
   "metadata": {
    "application/vnd.databricks.v1+cell": {
     "cellMetadata": {
      "byteLimit": 2048000,
      "rowLimit": 10000
     },
     "inputWidgets": {},
     "nuid": "e59d57e4-432f-4e78-adc9-4c44363718de",
     "showTitle": false,
     "title": ""
    }
   },
   "outputs": [
    {
     "output_type": "stream",
     "name": "stdout",
     "output_type": "stream",
     "text": [
      "+-----------+------------+------------+-------------------+\n|credit_type|credit_name |credit_score|description        |\n+-----------+------------+------------+-------------------+\n|Master     |cloudpandith|978         |Master-cloudpandith|\n|visa       |cloudpandith|978         |visa-cloudpandith  |\n|Master     |rama        |770         |Master-rama        |\n|Visa       |rama        |1240        |Visa-rama          |\n|Master     |Krishna     |1140        |Master-Krishna     |\n|visa       |Krishna     |1140        |visa-Krishna       |\n|Master     |srinu       |1240        |Master-srinu       |\n+-----------+------------+------------+-------------------+\n\n"
     ]
    }
   ],
   "source": [
    "df_concat.show(truncate=False)"
   ]
  },
  {
   "cell_type": "code",
   "execution_count": 0,
   "metadata": {
    "application/vnd.databricks.v1+cell": {
     "cellMetadata": {
      "byteLimit": 2048000,
      "rowLimit": 10000
     },
     "inputWidgets": {},
     "nuid": "c124d519-aa9e-4c37-903c-ccab6f5443e6",
     "showTitle": false,
     "title": ""
    }
   },
   "outputs": [
    {
     "output_type": "display_data",
     "data": {
      "text/html": [
       "<style scoped>\n",
       "  .table-result-container {\n",
       "    max-height: 300px;\n",
       "    overflow: auto;\n",
       "  }\n",
       "  table, th, td {\n",
       "    border: 1px solid black;\n",
       "    border-collapse: collapse;\n",
       "  }\n",
       "  th, td {\n",
       "    padding: 5px;\n",
       "  }\n",
       "  th {\n",
       "    text-align: left;\n",
       "  }\n",
       "</style><div class='table-result-container'><table class='table-result'><thead style='background-color: white'><tr><th>credit_id</th><th>credit_type</th><th>credit_name</th><th>credit_score</th><th>row_number</th></tr></thead><tbody><tr><td>6</td><td>Master</td><td>srinu</td><td>1240</td><td>1</td></tr><tr><td>3</td><td>Master</td><td>Krishna</td><td>1140</td><td>2</td></tr><tr><td>1</td><td>Master</td><td>cloudpandith</td><td>978</td><td>3</td></tr><tr><td>2</td><td>Master</td><td>rama</td><td>770</td><td>4</td></tr><tr><td>2</td><td>Visa</td><td>rama</td><td>1240</td><td>1</td></tr><tr><td>3</td><td>visa</td><td>Krishna</td><td>1140</td><td>1</td></tr><tr><td>1</td><td>visa</td><td>cloudpandith</td><td>978</td><td>2</td></tr></tbody></table></div>"
      ]
     },
     "metadata": {
      "application/vnd.databricks.v1+output": {
       "addedWidgets": {},
       "aggData": [],
       "aggError": "",
       "aggOverflow": false,
       "aggSchema": [],
       "aggSeriesLimitReached": false,
       "aggType": "",
       "arguments": {},
       "columnCustomDisplayInfos": {},
       "data": [
        [
         6,
         "Master",
         "srinu",
         1240,
         1
        ],
        [
         3,
         "Master",
         "Krishna",
         1140,
         2
        ],
        [
         1,
         "Master",
         "cloudpandith",
         978,
         3
        ],
        [
         2,
         "Master",
         "rama",
         770,
         4
        ],
        [
         2,
         "Visa",
         "rama",
         1240,
         1
        ],
        [
         3,
         "visa",
         "Krishna",
         1140,
         1
        ],
        [
         1,
         "visa",
         "cloudpandith",
         978,
         2
        ]
       ],
       "datasetInfos": [],
       "dbfsResultPath": null,
       "isJsonSchema": true,
       "metadata": {},
       "overflow": false,
       "plotOptions": {
        "customPlotOptions": {},
        "displayType": "table",
        "pivotAggregation": null,
        "pivotColumns": null,
        "xColumns": null,
        "yColumns": null
       },
       "removedWidgets": [],
       "schema": [
        {
         "metadata": "{}",
         "name": "credit_id",
         "type": "\"long\""
        },
        {
         "metadata": "{}",
         "name": "credit_type",
         "type": "\"string\""
        },
        {
         "metadata": "{}",
         "name": "credit_name",
         "type": "\"string\""
        },
        {
         "metadata": "{}",
         "name": "credit_score",
         "type": "\"long\""
        },
        {
         "metadata": "{}",
         "name": "row_number",
         "type": "\"integer\""
        }
       ],
       "type": "table"
      }
     },
     "output_type": "display_data"
    }
   ],
   "source": [
    "#window function using row function\n",
    "\n",
    "from pyspark.sql.window import Window\n",
    "from pyspark.sql.functions import desc,row_number\n",
    "\n",
    "w = Window.partitionBy(\"credit_type\").orderBy(desc(\"credit_score\"))\n",
    "df_rownumber = df.withColumn(\"row_number\",row_number().over(w))\n",
    "display(df_rownumber)"
   ]
  },
  {
   "cell_type": "code",
   "execution_count": 0,
   "metadata": {
    "application/vnd.databricks.v1+cell": {
     "cellMetadata": {
      "byteLimit": 2048000,
      "rowLimit": 10000
     },
     "inputWidgets": {},
     "nuid": "a3038838-aa92-4cca-8665-23f72cd96cd1",
     "showTitle": false,
     "title": ""
    }
   },
   "outputs": [
    {
     "output_type": "display_data",
     "data": {
      "text/html": [
       "<style scoped>\n",
       "  .table-result-container {\n",
       "    max-height: 300px;\n",
       "    overflow: auto;\n",
       "  }\n",
       "  table, th, td {\n",
       "    border: 1px solid black;\n",
       "    border-collapse: collapse;\n",
       "  }\n",
       "  th, td {\n",
       "    padding: 5px;\n",
       "  }\n",
       "  th {\n",
       "    text-align: left;\n",
       "  }\n",
       "</style><div class='table-result-container'><table class='table-result'><thead style='background-color: white'><tr><th>credit_id</th><th>credit_type</th><th>credit_name</th><th>credit_score</th><th>row_number</th></tr></thead><tbody><tr><td>6</td><td>Master</td><td>srinu</td><td>1240</td><td>1</td></tr><tr><td>3</td><td>Master</td><td>Krishna</td><td>1140</td><td>2</td></tr><tr><td>1</td><td>Master</td><td>cloudpandith</td><td>978</td><td>3</td></tr><tr><td>2</td><td>Master</td><td>rama</td><td>770</td><td>4</td></tr><tr><td>2</td><td>Visa</td><td>rama</td><td>1240</td><td>1</td></tr><tr><td>3</td><td>visa</td><td>Krishna</td><td>1140</td><td>1</td></tr><tr><td>1</td><td>visa</td><td>cloudpandith</td><td>978</td><td>2</td></tr></tbody></table></div>"
      ]
     },
     "metadata": {
      "application/vnd.databricks.v1+output": {
       "addedWidgets": {},
       "aggData": [],
       "aggError": "",
       "aggOverflow": false,
       "aggSchema": [],
       "aggSeriesLimitReached": false,
       "aggType": "",
       "arguments": {},
       "columnCustomDisplayInfos": {},
       "data": [
        [
         6,
         "Master",
         "srinu",
         1240,
         1
        ],
        [
         3,
         "Master",
         "Krishna",
         1140,
         2
        ],
        [
         1,
         "Master",
         "cloudpandith",
         978,
         3
        ],
        [
         2,
         "Master",
         "rama",
         770,
         4
        ],
        [
         2,
         "Visa",
         "rama",
         1240,
         1
        ],
        [
         3,
         "visa",
         "Krishna",
         1140,
         1
        ],
        [
         1,
         "visa",
         "cloudpandith",
         978,
         2
        ]
       ],
       "datasetInfos": [],
       "dbfsResultPath": null,
       "isJsonSchema": true,
       "metadata": {},
       "overflow": false,
       "plotOptions": {
        "customPlotOptions": {},
        "displayType": "table",
        "pivotAggregation": null,
        "pivotColumns": null,
        "xColumns": null,
        "yColumns": null
       },
       "removedWidgets": [],
       "schema": [
        {
         "metadata": "{}",
         "name": "credit_id",
         "type": "\"long\""
        },
        {
         "metadata": "{}",
         "name": "credit_type",
         "type": "\"string\""
        },
        {
         "metadata": "{}",
         "name": "credit_name",
         "type": "\"string\""
        },
        {
         "metadata": "{}",
         "name": "credit_score",
         "type": "\"long\""
        },
        {
         "metadata": "{}",
         "name": "row_number",
         "type": "\"integer\""
        }
       ],
       "type": "table"
      }
     },
     "output_type": "display_data"
    }
   ],
   "source": [
    "from pyspark.sql.window import Window\n",
    "from pyspark.sql.functions import desc,row_number\n",
    "\n",
    "w = Window.partitionBy(\"credit_type\").orderBy(desc(\"credit_score\"))\n",
    "df_rownumber = df.select(\"*\",row_number().over(w).alias(\"row_number\"))\n",
    "display(df_rownumber)"
   ]
  },
  {
   "cell_type": "code",
   "execution_count": 0,
   "metadata": {
    "application/vnd.databricks.v1+cell": {
     "cellMetadata": {
      "byteLimit": 2048000,
      "rowLimit": 10000
     },
     "inputWidgets": {},
     "nuid": "81b18ee4-e6ef-4845-8993-47a7c7e53e9d",
     "showTitle": false,
     "title": ""
    }
   },
   "outputs": [
    {
     "output_type": "display_data",
     "data": {
      "text/html": [
       "<style scoped>\n",
       "  .table-result-container {\n",
       "    max-height: 300px;\n",
       "    overflow: auto;\n",
       "  }\n",
       "  table, th, td {\n",
       "    border: 1px solid black;\n",
       "    border-collapse: collapse;\n",
       "  }\n",
       "  th, td {\n",
       "    padding: 5px;\n",
       "  }\n",
       "  th {\n",
       "    text-align: left;\n",
       "  }\n",
       "</style><div class='table-result-container'><table class='table-result'><thead style='background-color: white'><tr><th>credit_id</th><th>credit_type</th><th>credit_name</th><th>credit_score</th><th>row_number</th></tr></thead><tbody><tr><td>6</td><td>Master</td><td>srinu</td><td>1240</td><td>1</td></tr><tr><td>3</td><td>Master</td><td>Krishna</td><td>1140</td><td>2</td></tr><tr><td>1</td><td>Master</td><td>cloudpandith</td><td>978</td><td>3</td></tr><tr><td>2</td><td>Master</td><td>rama</td><td>770</td><td>4</td></tr><tr><td>2</td><td>Visa</td><td>rama</td><td>1240</td><td>1</td></tr><tr><td>3</td><td>visa</td><td>Krishna</td><td>1140</td><td>1</td></tr><tr><td>1</td><td>visa</td><td>cloudpandith</td><td>978</td><td>2</td></tr></tbody></table></div>"
      ]
     },
     "metadata": {
      "application/vnd.databricks.v1+output": {
       "addedWidgets": {},
       "aggData": [],
       "aggError": "",
       "aggOverflow": false,
       "aggSchema": [],
       "aggSeriesLimitReached": false,
       "aggType": "",
       "arguments": {},
       "columnCustomDisplayInfos": {},
       "data": [
        [
         6,
         "Master",
         "srinu",
         1240,
         1
        ],
        [
         3,
         "Master",
         "Krishna",
         1140,
         2
        ],
        [
         1,
         "Master",
         "cloudpandith",
         978,
         3
        ],
        [
         2,
         "Master",
         "rama",
         770,
         4
        ],
        [
         2,
         "Visa",
         "rama",
         1240,
         1
        ],
        [
         3,
         "visa",
         "Krishna",
         1140,
         1
        ],
        [
         1,
         "visa",
         "cloudpandith",
         978,
         2
        ]
       ],
       "datasetInfos": [],
       "dbfsResultPath": null,
       "isJsonSchema": true,
       "metadata": {},
       "overflow": false,
       "plotOptions": {
        "customPlotOptions": {},
        "displayType": "table",
        "pivotAggregation": null,
        "pivotColumns": null,
        "xColumns": null,
        "yColumns": null
       },
       "removedWidgets": [],
       "schema": [
        {
         "metadata": "{}",
         "name": "credit_id",
         "type": "\"long\""
        },
        {
         "metadata": "{}",
         "name": "credit_type",
         "type": "\"string\""
        },
        {
         "metadata": "{}",
         "name": "credit_name",
         "type": "\"string\""
        },
        {
         "metadata": "{}",
         "name": "credit_score",
         "type": "\"long\""
        },
        {
         "metadata": "{}",
         "name": "row_number",
         "type": "\"integer\""
        }
       ],
       "type": "table"
      }
     },
     "output_type": "display_data"
    }
   ],
   "source": [
    "from pyspark.sql.window import Window\n",
    "from pyspark.sql.functions import desc,dense_rank\n",
    "\n",
    "w = Window.partitionBy(\"credit_type\").orderBy(desc(\"credit_score\"))\n",
    "df_rownumber = df.select(\"*\",dense_rank().over(w).alias(\"row_number\"))\n",
    "display(df_rownumber)"
   ]
  },
  {
   "cell_type": "code",
   "execution_count": 0,
   "metadata": {
    "application/vnd.databricks.v1+cell": {
     "cellMetadata": {},
     "inputWidgets": {},
     "nuid": "5435ab06-eb93-4a2c-856d-d03e6ad97a29",
     "showTitle": false,
     "title": ""
    }
   },
   "outputs": [],
   "source": []
  },
  {
   "cell_type": "code",
   "execution_count": 0,
   "metadata": {
    "application/vnd.databricks.v1+cell": {
     "cellMetadata": {},
     "inputWidgets": {},
     "nuid": "59402061-2645-42b0-8370-49f990d95210",
     "showTitle": false,
     "title": ""
    }
   },
   "outputs": [],
   "source": []
  },
  {
   "cell_type": "code",
   "execution_count": 0,
   "metadata": {
    "application/vnd.databricks.v1+cell": {
     "cellMetadata": {},
     "inputWidgets": {},
     "nuid": "fa428903-c50d-45e5-aacb-8e63148cb6ce",
     "showTitle": false,
     "title": ""
    }
   },
   "outputs": [],
   "source": []
  },
  {
   "cell_type": "code",
   "execution_count": 0,
   "metadata": {
    "application/vnd.databricks.v1+cell": {
     "cellMetadata": {},
     "inputWidgets": {},
     "nuid": "a9bbdfa0-6ab7-4f22-90d2-b5357127ea53",
     "showTitle": false,
     "title": ""
    }
   },
   "outputs": [],
   "source": []
  },
  {
   "cell_type": "code",
   "execution_count": 0,
   "metadata": {
    "application/vnd.databricks.v1+cell": {
     "cellMetadata": {},
     "inputWidgets": {},
     "nuid": "60915d3c-4fbd-4c3d-bbcc-2c4015d0cacf",
     "showTitle": false,
     "title": ""
    }
   },
   "outputs": [],
   "source": []
  }
 ],
 "metadata": {
  "application/vnd.databricks.v1+notebook": {
   "dashboards": [],
   "language": "python",
   "notebookMetadata": {
    "pythonIndentUnit": 4
   },
   "notebookName": "SQL Part1 in Pyspark",
   "widgets": {}
  }
 },
 "nbformat": 4,
 "nbformat_minor": 0
}
