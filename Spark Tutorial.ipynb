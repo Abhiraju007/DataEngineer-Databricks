{
 "cells": [
  {
   "cell_type": "code",
   "execution_count": 0,
   "metadata": {
    "application/vnd.databricks.v1+cell": {
     "cellMetadata": {
      "byteLimit": 2048000,
      "rowLimit": 10000
     },
     "inputWidgets": {},
     "nuid": "4e7170e8-5208-4ea4-8a49-55d19668c2a1",
     "showTitle": true,
     "title": "Dataframe:-It is organized data in a row and column format"
    }
   },
   "outputs": [],
   "source": [
    "data = [(\"James\",\"\",\"Smith\",\"36636\",\"M\",6000),\n",
    "        (\"Michael\",\"Rose\",\"\",\"40288\",\"M\",7000),\n",
    "         (\"Robert\",\"\",\"Williams\",\"42114\",\"\",40000),\n",
    "         (\"Maria\",\"Annie\",\"Jones\",\"39192\",\"F\",50000),\n",
    "         (\"Jenn\",\"Marry\",\"Brown\",\"\",\"F\",0)\n",
    "        ]\n",
    "\n",
    "columns = [\"First_name\",\"middle_name\",\"Last_name\",\"dob\",\"Gender\",\"Salary\"]\n",
    "df = spark.createDataFrame(data=data, schema = columns)"
   ]
  },
  {
   "cell_type": "code",
   "execution_count": 0,
   "metadata": {
    "application/vnd.databricks.v1+cell": {
     "cellMetadata": {
      "byteLimit": 2048000,
      "rowLimit": 10000
     },
     "inputWidgets": {},
     "nuid": "dd4c8809-a8d3-4b49-ae1b-e9fe47369c63",
     "showTitle": false,
     "title": ""
    }
   },
   "outputs": [],
   "source": [
    "df.write.format(\"csv\").save(\"/FileStore/tables/new_employee.csv\")"
   ]
  },
  {
   "cell_type": "code",
   "execution_count": 0,
   "metadata": {
    "application/vnd.databricks.v1+cell": {
     "cellMetadata": {
      "byteLimit": 2048000,
      "rowLimit": 10000
     },
     "inputWidgets": {},
     "nuid": "e737d1fa-80df-4ff8-95ee-b2f83ab13f43",
     "showTitle": false,
     "title": ""
    }
   },
   "outputs": [
    {
     "output_type": "display_data",
     "data": {
      "text/html": [
       "<style scoped>\n",
       "  .table-result-container {\n",
       "    max-height: 300px;\n",
       "    overflow: auto;\n",
       "  }\n",
       "  table, th, td {\n",
       "    border: 1px solid black;\n",
       "    border-collapse: collapse;\n",
       "  }\n",
       "  th, td {\n",
       "    padding: 5px;\n",
       "  }\n",
       "  th {\n",
       "    text-align: left;\n",
       "  }\n",
       "</style><div class='table-result-container'><table class='table-result'><thead style='background-color: white'><tr><th>First_name</th><th>middle_name</th><th>Last_name</th><th>dob</th><th>Gender</th><th>Salary</th></tr></thead><tbody><tr><td>James</td><td></td><td>Smith</td><td>36636</td><td>M</td><td>6000</td></tr><tr><td>Michael</td><td>Rose</td><td></td><td>40288</td><td>M</td><td>7000</td></tr><tr><td>Robert</td><td></td><td>Williams</td><td>42114</td><td></td><td>40000</td></tr><tr><td>Maria</td><td>Annie</td><td>Jones</td><td>39192</td><td>F</td><td>50000</td></tr><tr><td>Jenn</td><td>Marry</td><td>Brown</td><td></td><td>F</td><td>0</td></tr></tbody></table></div>"
      ]
     },
     "metadata": {
      "application/vnd.databricks.v1+output": {
       "addedWidgets": {},
       "aggData": [],
       "aggError": "",
       "aggOverflow": false,
       "aggSchema": [],
       "aggSeriesLimitReached": false,
       "aggType": "",
       "arguments": {},
       "columnCustomDisplayInfos": {},
       "data": [
        [
         "James",
         "",
         "Smith",
         "36636",
         "M",
         6000
        ],
        [
         "Michael",
         "Rose",
         "",
         "40288",
         "M",
         7000
        ],
        [
         "Robert",
         "",
         "Williams",
         "42114",
         "",
         40000
        ],
        [
         "Maria",
         "Annie",
         "Jones",
         "39192",
         "F",
         50000
        ],
        [
         "Jenn",
         "Marry",
         "Brown",
         "",
         "F",
         0
        ]
       ],
       "datasetInfos": [],
       "dbfsResultPath": null,
       "isJsonSchema": true,
       "metadata": {},
       "overflow": false,
       "plotOptions": {
        "customPlotOptions": {},
        "displayType": "table",
        "pivotAggregation": null,
        "pivotColumns": null,
        "xColumns": null,
        "yColumns": null
       },
       "removedWidgets": [],
       "schema": [
        {
         "metadata": "{}",
         "name": "First_name",
         "type": "\"string\""
        },
        {
         "metadata": "{}",
         "name": "middle_name",
         "type": "\"string\""
        },
        {
         "metadata": "{}",
         "name": "Last_name",
         "type": "\"string\""
        },
        {
         "metadata": "{}",
         "name": "dob",
         "type": "\"string\""
        },
        {
         "metadata": "{}",
         "name": "Gender",
         "type": "\"string\""
        },
        {
         "metadata": "{}",
         "name": "Salary",
         "type": "\"long\""
        }
       ],
       "type": "table"
      }
     },
     "output_type": "display_data"
    }
   ],
   "source": [
    "display(df)"
   ]
  },
  {
   "cell_type": "code",
   "execution_count": 0,
   "metadata": {
    "application/vnd.databricks.v1+cell": {
     "cellMetadata": {
      "byteLimit": 2048000,
      "rowLimit": 10000
     },
     "inputWidgets": {},
     "nuid": "b51e883a-6dea-4b79-937c-9c48bb230780",
     "showTitle": true,
     "title": "Read CSV - dbfs location"
    }
   },
   "outputs": [],
   "source": [
    "df1 = spark.read.format(\"csv\").load(\"/FileStore/tables/employee1-5.csv\")"
   ]
  },
  {
   "cell_type": "code",
   "execution_count": 0,
   "metadata": {
    "application/vnd.databricks.v1+cell": {
     "cellMetadata": {
      "byteLimit": 2048000,
      "rowLimit": 10000
     },
     "inputWidgets": {},
     "nuid": "6fbe255d-964f-4539-8d24-1da961028919",
     "showTitle": false,
     "title": ""
    }
   },
   "outputs": [
    {
     "output_type": "display_data",
     "data": {
      "text/html": [
       "<style scoped>\n",
       "  .table-result-container {\n",
       "    max-height: 300px;\n",
       "    overflow: auto;\n",
       "  }\n",
       "  table, th, td {\n",
       "    border: 1px solid black;\n",
       "    border-collapse: collapse;\n",
       "  }\n",
       "  th, td {\n",
       "    padding: 5px;\n",
       "  }\n",
       "  th {\n",
       "    text-align: left;\n",
       "  }\n",
       "</style><div class='table-result-container'><table class='table-result'><thead style='background-color: white'><tr><th>_c0</th><th>_c1</th><th>_c2</th><th>_c3</th><th>_c4</th><th>_c5</th></tr></thead><tbody><tr><td>user</td><td>name</td><td>salary</td><td>location</td><td>date</td><td>attendance</td></tr><tr><td>1</td><td>mani</td><td>10000</td><td>US</td><td>01/05/2022</td><td>y</td></tr><tr><td>2</td><td>raju</td><td>20000</td><td>India</td><td>02/05/2022</td><td>y</td></tr><tr><td>3</td><td>megha</td><td>10000</td><td>India</td><td>03/05/2022</td><td>n</td></tr><tr><td>4</td><td>rahul</td><td>15000</td><td>India</td><td>04/05/2022</td><td>n</td></tr><tr><td>5</td><td>kishor</td><td>20000</td><td>India</td><td>01/05/2022</td><td>y</td></tr><tr><td>null</td><td>null</td><td>null</td><td>null</td><td>null</td><td>null</td></tr><tr><td>null</td><td>null</td><td>null</td><td>null</td><td>null</td><td>null</td></tr><tr><td>null</td><td>null</td><td>null</td><td>null</td><td>null</td><td>null</td></tr><tr><td>null</td><td>null</td><td>null</td><td>null</td><td>null</td><td>null</td></tr><tr><td>null</td><td>null</td><td>null</td><td>null</td><td>null</td><td>null</td></tr></tbody></table></div>"
      ]
     },
     "metadata": {
      "application/vnd.databricks.v1+output": {
       "addedWidgets": {},
       "aggData": [],
       "aggError": "",
       "aggOverflow": false,
       "aggSchema": [],
       "aggSeriesLimitReached": false,
       "aggType": "",
       "arguments": {},
       "columnCustomDisplayInfos": {},
       "data": [
        [
         "user",
         "name",
         "salary",
         "location",
         "date",
         "attendance"
        ],
        [
         "1",
         "mani",
         "10000",
         "US",
         "01/05/2022",
         "y"
        ],
        [
         "2",
         "raju",
         "20000",
         "India",
         "02/05/2022",
         "y"
        ],
        [
         "3",
         "megha",
         "10000",
         "India",
         "03/05/2022",
         "n"
        ],
        [
         "4",
         "rahul",
         "15000",
         "India",
         "04/05/2022",
         "n"
        ],
        [
         "5",
         "kishor",
         "20000",
         "India",
         "01/05/2022",
         "y"
        ],
        [
         null,
         null,
         null,
         null,
         null,
         null
        ],
        [
         null,
         null,
         null,
         null,
         null,
         null
        ],
        [
         null,
         null,
         null,
         null,
         null,
         null
        ],
        [
         null,
         null,
         null,
         null,
         null,
         null
        ],
        [
         null,
         null,
         null,
         null,
         null,
         null
        ]
       ],
       "datasetInfos": [],
       "dbfsResultPath": null,
       "isJsonSchema": true,
       "metadata": {},
       "overflow": false,
       "plotOptions": {
        "customPlotOptions": {},
        "displayType": "table",
        "pivotAggregation": null,
        "pivotColumns": null,
        "xColumns": null,
        "yColumns": null
       },
       "removedWidgets": [],
       "schema": [
        {
         "metadata": "{}",
         "name": "_c0",
         "type": "\"string\""
        },
        {
         "metadata": "{}",
         "name": "_c1",
         "type": "\"string\""
        },
        {
         "metadata": "{}",
         "name": "_c2",
         "type": "\"string\""
        },
        {
         "metadata": "{}",
         "name": "_c3",
         "type": "\"string\""
        },
        {
         "metadata": "{}",
         "name": "_c4",
         "type": "\"string\""
        },
        {
         "metadata": "{}",
         "name": "_c5",
         "type": "\"string\""
        }
       ],
       "type": "table"
      }
     },
     "output_type": "display_data"
    }
   ],
   "source": [
    "display(df1)"
   ]
  },
  {
   "cell_type": "code",
   "execution_count": 0,
   "metadata": {
    "application/vnd.databricks.v1+cell": {
     "cellMetadata": {
      "byteLimit": 2048000,
      "rowLimit": 10000
     },
     "inputWidgets": {},
     "nuid": "a6cfb2d8-d8a2-4745-bfa8-a592a054cc2d",
     "showTitle": false,
     "title": ""
    }
   },
   "outputs": [
    {
     "output_type": "stream",
     "name": "stdout",
     "output_type": "stream",
     "text": [
      "+----+------+------+--------+----------+----------+\n| _c0|   _c1|   _c2|     _c3|       _c4|       _c5|\n+----+------+------+--------+----------+----------+\n|user|  name|salary|location|      date|attendance|\n|   1|  mani| 10000|      US|01/05/2022|         y|\n|   2|  raju| 20000|   India|02/05/2022|         y|\n|   3| megha| 10000|   India|03/05/2022|         n|\n|   4| rahul| 15000|   India|04/05/2022|         n|\n|   5|kishor| 20000|   India|01/05/2022|         y|\n|null|  null|  null|    null|      null|      null|\n|null|  null|  null|    null|      null|      null|\n|null|  null|  null|    null|      null|      null|\n|null|  null|  null|    null|      null|      null|\n|null|  null|  null|    null|      null|      null|\n+----+------+------+--------+----------+----------+\n\n"
     ]
    }
   ],
   "source": [
    "df1.show()"
   ]
  },
  {
   "cell_type": "code",
   "execution_count": 0,
   "metadata": {
    "application/vnd.databricks.v1+cell": {
     "cellMetadata": {
      "byteLimit": 2048000,
      "rowLimit": 10000
     },
     "inputWidgets": {},
     "nuid": "fb7a9332-1555-4cf3-b21f-0f751596e644",
     "showTitle": false,
     "title": ""
    }
   },
   "outputs": [],
   "source": [
    "df2 = spark.read.format(\"csv\").option(\"header\",\"true\").load(\"/FileStore/tables/employee1-5.csv\")"
   ]
  },
  {
   "cell_type": "code",
   "execution_count": 0,
   "metadata": {
    "application/vnd.databricks.v1+cell": {
     "cellMetadata": {
      "byteLimit": 2048000,
      "rowLimit": 10000
     },
     "inputWidgets": {},
     "nuid": "f11bc7d7-363f-4945-8712-1a702768aeca",
     "showTitle": false,
     "title": ""
    }
   },
   "outputs": [
    {
     "output_type": "display_data",
     "data": {
      "text/html": [
       "<style scoped>\n",
       "  .table-result-container {\n",
       "    max-height: 300px;\n",
       "    overflow: auto;\n",
       "  }\n",
       "  table, th, td {\n",
       "    border: 1px solid black;\n",
       "    border-collapse: collapse;\n",
       "  }\n",
       "  th, td {\n",
       "    padding: 5px;\n",
       "  }\n",
       "  th {\n",
       "    text-align: left;\n",
       "  }\n",
       "</style><div class='table-result-container'><table class='table-result'><thead style='background-color: white'><tr><th>user</th><th>name</th><th>salary</th><th>location</th><th>date</th><th>attendance</th></tr></thead><tbody><tr><td>1</td><td>mani</td><td>10000</td><td>US</td><td>01/05/2022</td><td>y</td></tr><tr><td>2</td><td>raju</td><td>20000</td><td>India</td><td>02/05/2022</td><td>y</td></tr><tr><td>3</td><td>megha</td><td>10000</td><td>India</td><td>03/05/2022</td><td>n</td></tr><tr><td>4</td><td>rahul</td><td>15000</td><td>India</td><td>04/05/2022</td><td>n</td></tr><tr><td>5</td><td>kishor</td><td>20000</td><td>India</td><td>01/05/2022</td><td>y</td></tr><tr><td>null</td><td>null</td><td>null</td><td>null</td><td>null</td><td>null</td></tr><tr><td>null</td><td>null</td><td>null</td><td>null</td><td>null</td><td>null</td></tr><tr><td>null</td><td>null</td><td>null</td><td>null</td><td>null</td><td>null</td></tr><tr><td>null</td><td>null</td><td>null</td><td>null</td><td>null</td><td>null</td></tr><tr><td>null</td><td>null</td><td>null</td><td>null</td><td>null</td><td>null</td></tr></tbody></table></div>"
      ]
     },
     "metadata": {
      "application/vnd.databricks.v1+output": {
       "addedWidgets": {},
       "aggData": [],
       "aggError": "",
       "aggOverflow": false,
       "aggSchema": [],
       "aggSeriesLimitReached": false,
       "aggType": "",
       "arguments": {},
       "columnCustomDisplayInfos": {},
       "data": [
        [
         "1",
         "mani",
         "10000",
         "US",
         "01/05/2022",
         "y"
        ],
        [
         "2",
         "raju",
         "20000",
         "India",
         "02/05/2022",
         "y"
        ],
        [
         "3",
         "megha",
         "10000",
         "India",
         "03/05/2022",
         "n"
        ],
        [
         "4",
         "rahul",
         "15000",
         "India",
         "04/05/2022",
         "n"
        ],
        [
         "5",
         "kishor",
         "20000",
         "India",
         "01/05/2022",
         "y"
        ],
        [
         null,
         null,
         null,
         null,
         null,
         null
        ],
        [
         null,
         null,
         null,
         null,
         null,
         null
        ],
        [
         null,
         null,
         null,
         null,
         null,
         null
        ],
        [
         null,
         null,
         null,
         null,
         null,
         null
        ],
        [
         null,
         null,
         null,
         null,
         null,
         null
        ]
       ],
       "datasetInfos": [],
       "dbfsResultPath": null,
       "isJsonSchema": true,
       "metadata": {},
       "overflow": false,
       "plotOptions": {
        "customPlotOptions": {},
        "displayType": "table",
        "pivotAggregation": null,
        "pivotColumns": null,
        "xColumns": null,
        "yColumns": null
       },
       "removedWidgets": [],
       "schema": [
        {
         "metadata": "{}",
         "name": "user",
         "type": "\"string\""
        },
        {
         "metadata": "{}",
         "name": "name",
         "type": "\"string\""
        },
        {
         "metadata": "{}",
         "name": "salary",
         "type": "\"string\""
        },
        {
         "metadata": "{}",
         "name": "location",
         "type": "\"string\""
        },
        {
         "metadata": "{}",
         "name": "date",
         "type": "\"string\""
        },
        {
         "metadata": "{}",
         "name": "attendance",
         "type": "\"string\""
        }
       ],
       "type": "table"
      }
     },
     "output_type": "display_data"
    }
   ],
   "source": [
    "display(df2)"
   ]
  },
  {
   "cell_type": "code",
   "execution_count": 0,
   "metadata": {
    "application/vnd.databricks.v1+cell": {
     "cellMetadata": {
      "byteLimit": 2048000,
      "rowLimit": 10000
     },
     "inputWidgets": {},
     "nuid": "2b07378c-516c-447d-8df6-9b17a2a6b66c",
     "showTitle": false,
     "title": ""
    }
   },
   "outputs": [],
   "source": [
    "df3 = spark.read.format(\"csv\").option(\"header\",\"true\").option(\"inferSchema\",\"true\").load(\"/FileStore/tables/employee1-5.csv\")"
   ]
  },
  {
   "cell_type": "code",
   "execution_count": 0,
   "metadata": {
    "application/vnd.databricks.v1+cell": {
     "cellMetadata": {
      "byteLimit": 2048000,
      "rowLimit": 10000
     },
     "inputWidgets": {},
     "nuid": "68248f3c-08e1-42f3-a57d-23da97dc6cd7",
     "showTitle": false,
     "title": ""
    }
   },
   "outputs": [
    {
     "output_type": "stream",
     "name": "stdout",
     "output_type": "stream",
     "text": [
      "+----+------+------+--------+----------+----------+\n|user|  name|salary|location|      date|attendance|\n+----+------+------+--------+----------+----------+\n|   1|  mani| 10000|      US|01/05/2022|         y|\n|   2|  raju| 20000|   India|02/05/2022|         y|\n|   3| megha| 10000|   India|03/05/2022|         n|\n|   4| rahul| 15000|   India|04/05/2022|         n|\n|   5|kishor| 20000|   India|01/05/2022|         y|\n|null|  null|  null|    null|      null|      null|\n|null|  null|  null|    null|      null|      null|\n|null|  null|  null|    null|      null|      null|\n|null|  null|  null|    null|      null|      null|\n|null|  null|  null|    null|      null|      null|\n+----+------+------+--------+----------+----------+\n\n"
     ]
    }
   ],
   "source": [
    "df3.show()"
   ]
  },
  {
   "cell_type": "code",
   "execution_count": 0,
   "metadata": {
    "application/vnd.databricks.v1+cell": {
     "cellMetadata": {
      "byteLimit": 2048000,
      "rowLimit": 10000
     },
     "inputWidgets": {},
     "nuid": "c9eef382-8bf8-4dcf-a031-c9a2d5537839",
     "showTitle": false,
     "title": ""
    }
   },
   "outputs": [
    {
     "output_type": "display_data",
     "data": {
      "text/html": [
       "<style scoped>\n",
       "  .table-result-container {\n",
       "    max-height: 300px;\n",
       "    overflow: auto;\n",
       "  }\n",
       "  table, th, td {\n",
       "    border: 1px solid black;\n",
       "    border-collapse: collapse;\n",
       "  }\n",
       "  th, td {\n",
       "    padding: 5px;\n",
       "  }\n",
       "  th {\n",
       "    text-align: left;\n",
       "  }\n",
       "</style><div class='table-result-container'><table class='table-result'><thead style='background-color: white'><tr><th>user</th><th>name</th><th>salary</th><th>location</th><th>date</th><th>attendance</th></tr></thead><tbody><tr><td>1</td><td>mani</td><td>10000</td><td>US</td><td>01/05/2022</td><td>y</td></tr><tr><td>2</td><td>raju</td><td>20000</td><td>India</td><td>02/05/2022</td><td>y</td></tr><tr><td>3</td><td>megha</td><td>10000</td><td>India</td><td>03/05/2022</td><td>n</td></tr><tr><td>4</td><td>rahul</td><td>15000</td><td>India</td><td>04/05/2022</td><td>n</td></tr><tr><td>5</td><td>kishor</td><td>20000</td><td>India</td><td>01/05/2022</td><td>y</td></tr><tr><td>null</td><td>null</td><td>null</td><td>null</td><td>null</td><td>null</td></tr><tr><td>null</td><td>null</td><td>null</td><td>null</td><td>null</td><td>null</td></tr><tr><td>null</td><td>null</td><td>null</td><td>null</td><td>null</td><td>null</td></tr><tr><td>null</td><td>null</td><td>null</td><td>null</td><td>null</td><td>null</td></tr><tr><td>null</td><td>null</td><td>null</td><td>null</td><td>null</td><td>null</td></tr></tbody></table></div>"
      ]
     },
     "metadata": {
      "application/vnd.databricks.v1+output": {
       "addedWidgets": {},
       "aggData": [],
       "aggError": "",
       "aggOverflow": false,
       "aggSchema": [],
       "aggSeriesLimitReached": false,
       "aggType": "",
       "arguments": {},
       "columnCustomDisplayInfos": {},
       "data": [
        [
         1,
         "mani",
         10000,
         "US",
         "01/05/2022",
         "y"
        ],
        [
         2,
         "raju",
         20000,
         "India",
         "02/05/2022",
         "y"
        ],
        [
         3,
         "megha",
         10000,
         "India",
         "03/05/2022",
         "n"
        ],
        [
         4,
         "rahul",
         15000,
         "India",
         "04/05/2022",
         "n"
        ],
        [
         5,
         "kishor",
         20000,
         "India",
         "01/05/2022",
         "y"
        ],
        [
         null,
         null,
         null,
         null,
         null,
         null
        ],
        [
         null,
         null,
         null,
         null,
         null,
         null
        ],
        [
         null,
         null,
         null,
         null,
         null,
         null
        ],
        [
         null,
         null,
         null,
         null,
         null,
         null
        ],
        [
         null,
         null,
         null,
         null,
         null,
         null
        ]
       ],
       "datasetInfos": [],
       "dbfsResultPath": null,
       "isJsonSchema": true,
       "metadata": {},
       "overflow": false,
       "plotOptions": {
        "customPlotOptions": {},
        "displayType": "table",
        "pivotAggregation": null,
        "pivotColumns": null,
        "xColumns": null,
        "yColumns": null
       },
       "removedWidgets": [],
       "schema": [
        {
         "metadata": "{}",
         "name": "user",
         "type": "\"integer\""
        },
        {
         "metadata": "{}",
         "name": "name",
         "type": "\"string\""
        },
        {
         "metadata": "{}",
         "name": "salary",
         "type": "\"integer\""
        },
        {
         "metadata": "{}",
         "name": "location",
         "type": "\"string\""
        },
        {
         "metadata": "{}",
         "name": "date",
         "type": "\"string\""
        },
        {
         "metadata": "{}",
         "name": "attendance",
         "type": "\"string\""
        }
       ],
       "type": "table"
      }
     },
     "output_type": "display_data"
    }
   ],
   "source": [
    "display(df3)"
   ]
  },
  {
   "cell_type": "code",
   "execution_count": 0,
   "metadata": {
    "application/vnd.databricks.v1+cell": {
     "cellMetadata": {
      "byteLimit": 2048000,
      "rowLimit": 10000
     },
     "inputWidgets": {},
     "nuid": "b93b37f3-9a3c-4a85-910c-247385435593",
     "showTitle": false,
     "title": ""
    }
   },
   "outputs": [
    {
     "output_type": "stream",
     "name": "stdout",
     "output_type": "stream",
     "text": [
      "root\n |-- user: integer (nullable = true)\n |-- name: string (nullable = true)\n |-- salary: integer (nullable = true)\n |-- location: string (nullable = true)\n |-- date: string (nullable = true)\n |-- attendance: string (nullable = true)\n\n"
     ]
    }
   ],
   "source": [
    "df3.printSchema()"
   ]
  },
  {
   "cell_type": "code",
   "execution_count": 0,
   "metadata": {
    "application/vnd.databricks.v1+cell": {
     "cellMetadata": {
      "byteLimit": 2048000,
      "rowLimit": 10000
     },
     "inputWidgets": {},
     "nuid": "11db2856-288e-4770-81ec-60361bd259bb",
     "showTitle": false,
     "title": ""
    }
   },
   "outputs": [
    {
     "output_type": "stream",
     "name": "stdout",
     "output_type": "stream",
     "text": [
      "root\n |-- user: string (nullable = true)\n |-- name: string (nullable = true)\n |-- salary: string (nullable = true)\n |-- location: string (nullable = true)\n |-- date: string (nullable = true)\n |-- attendance: string (nullable = true)\n\n"
     ]
    }
   ],
   "source": [
    "df2.printSchema()"
   ]
  },
  {
   "cell_type": "code",
   "execution_count": 0,
   "metadata": {
    "application/vnd.databricks.v1+cell": {
     "cellMetadata": {
      "byteLimit": 2048000,
      "rowLimit": 10000
     },
     "inputWidgets": {},
     "nuid": "5cccfdd2-145c-41b6-baf1-fb68cab34986",
     "showTitle": false,
     "title": ""
    }
   },
   "outputs": [],
   "source": [
    "df3.write.format(\"csv\").save(\"/FileStore/tables/emp\")"
   ]
  },
  {
   "cell_type": "code",
   "execution_count": 0,
   "metadata": {
    "application/vnd.databricks.v1+cell": {
     "cellMetadata": {
      "byteLimit": 2048000,
      "rowLimit": 10000
     },
     "inputWidgets": {},
     "nuid": "04fbf67b-9dd8-479f-9070-ff8ac0b0c330",
     "showTitle": true,
     "title": "how to read dataframe"
    }
   },
   "outputs": [
    {
     "output_type": "stream",
     "name": "stdout",
     "output_type": "stream",
     "text": [
      "+----+------+------+--------+----------+----------+\n|user|  name|salary|location|      date|attendance|\n+----+------+------+--------+----------+----------+\n|   1|  mani| 10000|      US|01/05/2022|         y|\n|   2|  raju| 20000|   India|02/05/2022|         y|\n|   3| megha| 10000|   India|03/05/2022|         n|\n|   4| rahul| 15000|   India|04/05/2022|         n|\n|   5|kishor| 20000|   India|01/05/2022|         y|\n|null|  null|  null|    null|      null|      null|\n|null|  null|  null|    null|      null|      null|\n|null|  null|  null|    null|      null|      null|\n|null|  null|  null|    null|      null|      null|\n|null|  null|  null|    null|      null|      null|\n+----+------+------+--------+----------+----------+\n\n"
     ]
    }
   ],
   "source": [
    "df3.show()"
   ]
  },
  {
   "cell_type": "code",
   "execution_count": 0,
   "metadata": {
    "application/vnd.databricks.v1+cell": {
     "cellMetadata": {
      "byteLimit": 2048000,
      "rowLimit": 10000
     },
     "inputWidgets": {},
     "nuid": "582d8d4e-c4ca-413a-98a1-403382843235",
     "showTitle": false,
     "title": ""
    }
   },
   "outputs": [
    {
     "output_type": "display_data",
     "data": {
      "text/html": [
       "<style scoped>\n",
       "  .table-result-container {\n",
       "    max-height: 300px;\n",
       "    overflow: auto;\n",
       "  }\n",
       "  table, th, td {\n",
       "    border: 1px solid black;\n",
       "    border-collapse: collapse;\n",
       "  }\n",
       "  th, td {\n",
       "    padding: 5px;\n",
       "  }\n",
       "  th {\n",
       "    text-align: left;\n",
       "  }\n",
       "</style><div class='table-result-container'><table class='table-result'><thead style='background-color: white'><tr><th>user</th><th>name</th><th>salary</th><th>location</th><th>date</th><th>attendance</th></tr></thead><tbody><tr><td>1</td><td>mani</td><td>10000</td><td>US</td><td>01/05/2022</td><td>y</td></tr><tr><td>2</td><td>raju</td><td>20000</td><td>India</td><td>02/05/2022</td><td>y</td></tr><tr><td>3</td><td>megha</td><td>10000</td><td>India</td><td>03/05/2022</td><td>n</td></tr><tr><td>4</td><td>rahul</td><td>15000</td><td>India</td><td>04/05/2022</td><td>n</td></tr><tr><td>5</td><td>kishor</td><td>20000</td><td>India</td><td>01/05/2022</td><td>y</td></tr><tr><td>null</td><td>null</td><td>null</td><td>null</td><td>null</td><td>null</td></tr><tr><td>null</td><td>null</td><td>null</td><td>null</td><td>null</td><td>null</td></tr><tr><td>null</td><td>null</td><td>null</td><td>null</td><td>null</td><td>null</td></tr><tr><td>null</td><td>null</td><td>null</td><td>null</td><td>null</td><td>null</td></tr><tr><td>null</td><td>null</td><td>null</td><td>null</td><td>null</td><td>null</td></tr></tbody></table></div>"
      ]
     },
     "metadata": {
      "application/vnd.databricks.v1+output": {
       "addedWidgets": {},
       "aggData": [],
       "aggError": "",
       "aggOverflow": false,
       "aggSchema": [],
       "aggSeriesLimitReached": false,
       "aggType": "",
       "arguments": {},
       "columnCustomDisplayInfos": {},
       "data": [
        [
         1,
         "mani",
         10000,
         "US",
         "01/05/2022",
         "y"
        ],
        [
         2,
         "raju",
         20000,
         "India",
         "02/05/2022",
         "y"
        ],
        [
         3,
         "megha",
         10000,
         "India",
         "03/05/2022",
         "n"
        ],
        [
         4,
         "rahul",
         15000,
         "India",
         "04/05/2022",
         "n"
        ],
        [
         5,
         "kishor",
         20000,
         "India",
         "01/05/2022",
         "y"
        ],
        [
         null,
         null,
         null,
         null,
         null,
         null
        ],
        [
         null,
         null,
         null,
         null,
         null,
         null
        ],
        [
         null,
         null,
         null,
         null,
         null,
         null
        ],
        [
         null,
         null,
         null,
         null,
         null,
         null
        ],
        [
         null,
         null,
         null,
         null,
         null,
         null
        ]
       ],
       "datasetInfos": [],
       "dbfsResultPath": null,
       "isJsonSchema": true,
       "metadata": {},
       "overflow": false,
       "plotOptions": {
        "customPlotOptions": {},
        "displayType": "table",
        "pivotAggregation": null,
        "pivotColumns": null,
        "xColumns": null,
        "yColumns": null
       },
       "removedWidgets": [],
       "schema": [
        {
         "metadata": "{}",
         "name": "user",
         "type": "\"integer\""
        },
        {
         "metadata": "{}",
         "name": "name",
         "type": "\"string\""
        },
        {
         "metadata": "{}",
         "name": "salary",
         "type": "\"integer\""
        },
        {
         "metadata": "{}",
         "name": "location",
         "type": "\"string\""
        },
        {
         "metadata": "{}",
         "name": "date",
         "type": "\"string\""
        },
        {
         "metadata": "{}",
         "name": "attendance",
         "type": "\"string\""
        }
       ],
       "type": "table"
      }
     },
     "output_type": "display_data"
    }
   ],
   "source": [
    "display(df3)"
   ]
  },
  {
   "cell_type": "code",
   "execution_count": 0,
   "metadata": {
    "application/vnd.databricks.v1+cell": {
     "cellMetadata": {
      "byteLimit": 2048000,
      "rowLimit": 10000
     },
     "inputWidgets": {},
     "nuid": "a1078353-cf3d-48cf-86f6-7922d485e34c",
     "showTitle": false,
     "title": ""
    }
   },
   "outputs": [
    {
     "output_type": "stream",
     "name": "stdout",
     "output_type": "stream",
     "text": [
      "Out[24]: [Row(user=1, name='mani', salary=10000, location='US', date='01/05/2022', attendance='y'),\n Row(user=2, name='raju', salary=20000, location='India', date='02/05/2022', attendance='y'),\n Row(user=3, name='megha', salary=10000, location='India', date='03/05/2022', attendance='n'),\n Row(user=4, name='rahul', salary=15000, location='India', date='04/05/2022', attendance='n'),\n Row(user=5, name='kishor', salary=20000, location='India', date='01/05/2022', attendance='y'),\n Row(user=None, name=None, salary=None, location=None, date=None, attendance=None),\n Row(user=None, name=None, salary=None, location=None, date=None, attendance=None),\n Row(user=None, name=None, salary=None, location=None, date=None, attendance=None),\n Row(user=None, name=None, salary=None, location=None, date=None, attendance=None),\n Row(user=None, name=None, salary=None, location=None, date=None, attendance=None)]"
     ]
    }
   ],
   "source": [
    "df3.collect()"
   ]
  },
  {
   "cell_type": "code",
   "execution_count": 0,
   "metadata": {
    "application/vnd.databricks.v1+cell": {
     "cellMetadata": {
      "byteLimit": 2048000,
      "rowLimit": 10000
     },
     "inputWidgets": {},
     "nuid": "c02fb674-aafb-489a-b84e-8744be852b24",
     "showTitle": false,
     "title": ""
    }
   },
   "outputs": [
    {
     "output_type": "stream",
     "name": "stdout",
     "output_type": "stream",
     "text": [
      "Out[26]: [Row(user=1, name='mani', salary=10000, location='US', date='01/05/2022', attendance='y'),\n Row(user=2, name='raju', salary=20000, location='India', date='02/05/2022', attendance='y'),\n Row(user=3, name='megha', salary=10000, location='India', date='03/05/2022', attendance='n'),\n Row(user=4, name='rahul', salary=15000, location='India', date='04/05/2022', attendance='n')]"
     ]
    }
   ],
   "source": [
    "df3.take(4)"
   ]
  },
  {
   "cell_type": "code",
   "execution_count": 0,
   "metadata": {
    "application/vnd.databricks.v1+cell": {
     "cellMetadata": {
      "byteLimit": 2048000,
      "rowLimit": 10000
     },
     "inputWidgets": {},
     "nuid": "3560a748-8ea7-4d08-9b97-40daa3941884",
     "showTitle": true,
     "title": "How to check schema of df"
    }
   },
   "outputs": [
    {
     "output_type": "stream",
     "name": "stdout",
     "output_type": "stream",
     "text": [
      "root\n |-- user: integer (nullable = true)\n |-- name: string (nullable = true)\n |-- salary: integer (nullable = true)\n |-- location: string (nullable = true)\n |-- date: string (nullable = true)\n |-- attendance: string (nullable = true)\n\n"
     ]
    }
   ],
   "source": [
    "df3.printSchema()"
   ]
  },
  {
   "cell_type": "code",
   "execution_count": 0,
   "metadata": {
    "application/vnd.databricks.v1+cell": {
     "cellMetadata": {
      "byteLimit": 2048000,
      "rowLimit": 10000
     },
     "inputWidgets": {},
     "nuid": "4e54447d-c688-48d5-823c-88675ed71fcf",
     "showTitle": true,
     "title": " Add new column"
    }
   },
   "outputs": [
    {
     "output_type": "stream",
     "name": "stdout",
     "output_type": "stream",
     "text": [
      "+----+------+------+--------+----------+----------+------+\n|user|  name|salary|location|      date|attendance| Bonus|\n+----+------+------+--------+----------+----------+------+\n|   1|  mani| 10000|      US|01/05/2022|         y|2000.0|\n|   2|  raju| 20000|   India|02/05/2022|         y|4000.0|\n|   3| megha| 10000|   India|03/05/2022|         n|2000.0|\n|   4| rahul| 15000|   India|04/05/2022|         n|3000.0|\n|   5|kishor| 20000|   India|01/05/2022|         y|4000.0|\n|null|  null|  null|    null|      null|      null|  null|\n|null|  null|  null|    null|      null|      null|  null|\n|null|  null|  null|    null|      null|      null|  null|\n|null|  null|  null|    null|      null|      null|  null|\n|null|  null|  null|    null|      null|      null|  null|\n+----+------+------+--------+----------+----------+------+\n\n"
     ]
    }
   ],
   "source": [
    "df3.withColumn(\"Bonus\",df3.salary*0.2).show()"
   ]
  },
  {
   "cell_type": "code",
   "execution_count": 0,
   "metadata": {
    "application/vnd.databricks.v1+cell": {
     "cellMetadata": {
      "byteLimit": 2048000,
      "rowLimit": 10000
     },
     "inputWidgets": {},
     "nuid": "18de61ef-b234-4caf-8193-60703fc8fd71",
     "showTitle": true,
     "title": "How to filter"
    }
   },
   "outputs": [
    {
     "output_type": "stream",
     "name": "stdout",
     "output_type": "stream",
     "text": [
      "+----+----+------+--------+----------+----------+\n|user|name|salary|location|      date|attendance|\n+----+----+------+--------+----------+----------+\n|   2|raju| 20000|   India|02/05/2022|         y|\n+----+----+------+--------+----------+----------+\n\n"
     ]
    }
   ],
   "source": [
    "df3.filter(df3.name=='raju').show()"
   ]
  },
  {
   "cell_type": "code",
   "execution_count": 0,
   "metadata": {
    "application/vnd.databricks.v1+cell": {
     "cellMetadata": {
      "byteLimit": 2048000,
      "rowLimit": 10000
     },
     "inputWidgets": {},
     "nuid": "3555d071-c125-48d7-b756-11466d10a4cd",
     "showTitle": false,
     "title": ""
    }
   },
   "outputs": [
    {
     "output_type": "stream",
     "name": "stdout",
     "output_type": "stream",
     "text": [
      "+----+------+------+--------+----------+----------+\n|user|  name|salary|location|      date|attendance|\n+----+------+------+--------+----------+----------+\n|   2|  raju| 20000|   India|02/05/2022|         y|\n|   4| rahul| 15000|   India|04/05/2022|         n|\n|   5|kishor| 20000|   India|01/05/2022|         y|\n+----+------+------+--------+----------+----------+\n\n"
     ]
    }
   ],
   "source": [
    "df3.filter(df3.salary>10000).show()"
   ]
  },
  {
   "cell_type": "code",
   "execution_count": 0,
   "metadata": {
    "application/vnd.databricks.v1+cell": {
     "cellMetadata": {
      "byteLimit": 2048000,
      "rowLimit": 10000
     },
     "inputWidgets": {},
     "nuid": "a8abecac-c653-45c3-b70c-d9787276ba71",
     "showTitle": true,
     "title": "Sorting"
    }
   },
   "outputs": [
    {
     "output_type": "stream",
     "name": "stdout",
     "output_type": "stream",
     "text": [
      "+----+------+------+--------+----------+----------+\n|user|  name|salary|location|      date|attendance|\n+----+------+------+--------+----------+----------+\n|null|  null|  null|    null|      null|      null|\n|null|  null|  null|    null|      null|      null|\n|null|  null|  null|    null|      null|      null|\n|null|  null|  null|    null|      null|      null|\n|null|  null|  null|    null|      null|      null|\n|   1|  mani| 10000|      US|01/05/2022|         y|\n|   3| megha| 10000|   India|03/05/2022|         n|\n|   4| rahul| 15000|   India|04/05/2022|         n|\n|   2|  raju| 20000|   India|02/05/2022|         y|\n|   5|kishor| 20000|   India|01/05/2022|         y|\n+----+------+------+--------+----------+----------+\n\n"
     ]
    }
   ],
   "source": [
    " df3.sort(df3.salary).show()"
   ]
  },
  {
   "cell_type": "code",
   "execution_count": 0,
   "metadata": {
    "application/vnd.databricks.v1+cell": {
     "cellMetadata": {
      "byteLimit": 2048000,
      "rowLimit": 10000
     },
     "inputWidgets": {},
     "nuid": "f1d1e2fb-6c47-43d3-8cd5-154b0183b8c3",
     "showTitle": false,
     "title": ""
    }
   },
   "outputs": [
    {
     "output_type": "stream",
     "name": "stdout",
     "output_type": "stream",
     "text": [
      "+----+------+------+--------+----------+----------+\n|user|  name|salary|location|      date|attendance|\n+----+------+------+--------+----------+----------+\n|   2|  raju| 20000|   India|02/05/2022|         y|\n|   5|kishor| 20000|   India|01/05/2022|         y|\n|   4| rahul| 15000|   India|04/05/2022|         n|\n|   1|  mani| 10000|      US|01/05/2022|         y|\n|   3| megha| 10000|   India|03/05/2022|         n|\n|null|  null|  null|    null|      null|      null|\n|null|  null|  null|    null|      null|      null|\n|null|  null|  null|    null|      null|      null|\n|null|  null|  null|    null|      null|      null|\n|null|  null|  null|    null|      null|      null|\n+----+------+------+--------+----------+----------+\n\n"
     ]
    }
   ],
   "source": [
    " df3.sort(df3.salary.desc()).show()"
   ]
  },
  {
   "cell_type": "code",
   "execution_count": 0,
   "metadata": {
    "application/vnd.databricks.v1+cell": {
     "cellMetadata": {
      "byteLimit": 2048000,
      "rowLimit": 10000
     },
     "inputWidgets": {},
     "nuid": "30631b49-fd35-44ec-8e29-a79eac437263",
     "showTitle": false,
     "title": ""
    }
   },
   "outputs": [
    {
     "output_type": "stream",
     "name": "stdout",
     "output_type": "stream",
     "text": [
      "+----------+-----------+---------+-----+------+------+\n|First_name|middle_name|Last_name|  dob|Gender|Salary|\n+----------+-----------+---------+-----+------+------+\n|     James|           |    Smith|36636|     M|  6000|\n|   Michael|       Rose|         |40288|     M|  7000|\n|    Robert|           | Williams|42114|      | 40000|\n|     Maria|      Annie|    Jones|39192|     F| 50000|\n|      Jenn|      Marry|    Brown|     |     F|     0|\n+----------+-----------+---------+-----+------+------+\n\n"
     ]
    }
   ],
   "source": [
    "df.show()"
   ]
  },
  {
   "cell_type": "markdown",
   "metadata": {
    "application/vnd.databricks.v1+cell": {
     "cellMetadata": {},
     "inputWidgets": {},
     "nuid": "e51796a9-97a3-48e1-9f0f-2e3959ae80b2",
     "showTitle": false,
     "title": ""
    }
   },
   "source": [
    "#Aggregated Function"
   ]
  },
  {
   "cell_type": "code",
   "execution_count": 0,
   "metadata": {
    "application/vnd.databricks.v1+cell": {
     "cellMetadata": {
      "byteLimit": 2048000,
      "rowLimit": 10000
     },
     "inputWidgets": {},
     "nuid": "8f514078-ab71-4b65-8f23-759a89bfb568",
     "showTitle": true,
     "title": "select"
    }
   },
   "outputs": [
    {
     "output_type": "stream",
     "name": "stdout",
     "output_type": "stream",
     "text": [
      "+----------+------+------+\n|first_name|Gender|Salary|\n+----------+------+------+\n|     James|     M|  6000|\n|   Michael|     M|  7000|\n|    Robert|      | 40000|\n|     Maria|     F| 50000|\n|      Jenn|     F|     0|\n+----------+------+------+\n\n"
     ]
    }
   ],
   "source": [
    "df.select(\"first_name\",\"Gender\",\"Salary\").show()"
   ]
  },
  {
   "cell_type": "markdown",
   "metadata": {
    "application/vnd.databricks.v1+cell": {
     "cellMetadata": {},
     "inputWidgets": {},
     "nuid": "1c09298c-5f3c-4e44-a64d-6ab876a61aad",
     "showTitle": false,
     "title": ""
    }
   },
   "source": [
    "sum of salary based on gender"
   ]
  },
  {
   "cell_type": "code",
   "execution_count": 0,
   "metadata": {
    "application/vnd.databricks.v1+cell": {
     "cellMetadata": {
      "byteLimit": 2048000,
      "rowLimit": 10000
     },
     "inputWidgets": {},
     "nuid": "12068839-6530-4437-81b6-b6e05875e450",
     "showTitle": false,
     "title": ""
    }
   },
   "outputs": [
    {
     "output_type": "stream",
     "name": "stdout",
     "output_type": "stream",
     "text": [
      "+------+-----------+\n|Gender|sum(salary)|\n+------+-----------+\n|     M|      13000|\n|      |      40000|\n|     F|      50000|\n+------+-----------+\n\n"
     ]
    }
   ],
   "source": [
    "df.groupBy('Gender').sum('salary').show()"
   ]
  },
  {
   "cell_type": "code",
   "execution_count": 0,
   "metadata": {
    "application/vnd.databricks.v1+cell": {
     "cellMetadata": {
      "byteLimit": 2048000,
      "rowLimit": 10000
     },
     "inputWidgets": {},
     "nuid": "8e9be709-ec04-4c8b-8111-4d2394815e63",
     "showTitle": false,
     "title": ""
    }
   },
   "outputs": [
    {
     "output_type": "stream",
     "name": "stdout",
     "output_type": "stream",
     "text": [
      "+------+-----+\n|Gender|count|\n+------+-----+\n|     M|    2|\n|      |    1|\n|     F|    2|\n+------+-----+\n\n"
     ]
    }
   ],
   "source": [
    "df.groupBy('Gender').count().show()"
   ]
  },
  {
   "cell_type": "code",
   "execution_count": 0,
   "metadata": {
    "application/vnd.databricks.v1+cell": {
     "cellMetadata": {
      "byteLimit": 2048000,
      "rowLimit": 10000
     },
     "inputWidgets": {},
     "nuid": "2a435ed2-5b21-465b-8190-9974392d105e",
     "showTitle": false,
     "title": ""
    }
   },
   "outputs": [
    {
     "output_type": "stream",
     "name": "stdout",
     "output_type": "stream",
     "text": [
      "+------+-----------+\n|Gender|max(salary)|\n+------+-----------+\n|     M|       7000|\n|      |      40000|\n|     F|      50000|\n+------+-----------+\n\n"
     ]
    }
   ],
   "source": [
    "df.groupBy(\"Gender\").max(\"salary\").show()"
   ]
  },
  {
   "cell_type": "code",
   "execution_count": 0,
   "metadata": {
    "application/vnd.databricks.v1+cell": {
     "cellMetadata": {
      "byteLimit": 2048000,
      "rowLimit": 10000
     },
     "inputWidgets": {},
     "nuid": "252a8d82-6b26-4048-9874-dca203988977",
     "showTitle": false,
     "title": ""
    }
   },
   "outputs": [
    {
     "output_type": "stream",
     "name": "stdout",
     "output_type": "stream",
     "text": [
      "+------+-----------+\n|Gender|min(Salary)|\n+------+-----------+\n|     M|       6000|\n|      |      40000|\n|     F|          0|\n+------+-----------+\n\n"
     ]
    }
   ],
   "source": [
    "c"
   ]
  },
  {
   "cell_type": "code",
   "execution_count": 0,
   "metadata": {
    "application/vnd.databricks.v1+cell": {
     "cellMetadata": {
      "byteLimit": 2048000,
      "rowLimit": 10000
     },
     "inputWidgets": {},
     "nuid": "a9a7bc29-37a0-4526-b8e4-87c9b9fe6e24",
     "showTitle": false,
     "title": ""
    }
   },
   "outputs": [
    {
     "output_type": "stream",
     "name": "stdout",
     "output_type": "stream",
     "text": [
      "+------+-----------+\n|Gender|avg(salary)|\n+------+-----------+\n|     M|     6500.0|\n|      |    40000.0|\n|     F|    25000.0|\n+------+-----------+\n\n"
     ]
    }
   ],
   "source": [
    "df.groupBy(\"Gender\").avg(\"salary\").show()"
   ]
  },
  {
   "cell_type": "code",
   "execution_count": 0,
   "metadata": {
    "application/vnd.databricks.v1+cell": {
     "cellMetadata": {
      "byteLimit": 2048000,
      "rowLimit": 10000
     },
     "inputWidgets": {},
     "nuid": "cd284c6d-b23c-4d85-b462-ee2bfa4bff4a",
     "showTitle": false,
     "title": ""
    }
   },
   "outputs": [
    {
     "output_type": "stream",
     "name": "stdout",
     "output_type": "stream",
     "text": [
      "root\n |-- emp_id: long (nullable = true)\n |-- name: string (nullable = true)\n |-- superior_emp_id: long (nullable = true)\n |-- year_joined: string (nullable = true)\n |-- emp_dept_id: string (nullable = true)\n |-- gender: string (nullable = true)\n |-- salary: long (nullable = true)\n\n+------+--------+---------------+-----------+-----------+------+------+\n|emp_id|    name|superior_emp_id|year_joined|emp_dept_id|gender|salary|\n+------+--------+---------------+-----------+-----------+------+------+\n|     1|   Smith|             -1|       2018|         10|     M|  3000|\n|     2|    Rose|              1|       2010|         20|     M|  4000|\n|     3|Williams|              1|       2010|         10|     M|  1000|\n|     4|   Jones|              2|       2005|         40|     F|  2000|\n|     5|   Brown|              2|       2010|         40|      |    -1|\n|     6|   Brown|              2|       2010|         50|      |    -1|\n+------+--------+---------------+-----------+-----------+------+------+\n\nroot\n |-- dept_name: string (nullable = true)\n |-- dept_id: long (nullable = true)\n\n+---------+-------+\n|dept_name|dept_id|\n+---------+-------+\n|  Finance|     10|\n|Marketing|     20|\n|    Sales|     30|\n|       IT|     40|\n+---------+-------+\n\n"
     ]
    }
   ],
   "source": [
    "emp = [(1,\"Smith\",-1,\"2018\",\"10\",\"M\",3000),\\\n",
    "       (2,\"Rose\",1,\"2010\",\"20\",\"M\",4000),\\\n",
    "       (3,\"Williams\",1,\"2010\",\"10\",\"M\",1000),\\\n",
    "       (4,\"Jones\",2,\"2005\",\"40\",\"F\",2000),\\\n",
    "       (5,\"Brown\",2,\"2010\",\"40\",\"\",-1),\\\n",
    "       (6,\"Brown\",2,\"2010\",\"50\",\"\",-1) \\\n",
    "           ]\n",
    "\n",
    "empColumns = [\"emp_id\",\"name\",\"superior_emp_id\",\"year_joined\",\\\n",
    "              \"emp_dept_id\",\"gender\",\"salary\"]\n",
    "empDF = spark.createDataFrame(data=emp, schema=empColumns)\n",
    "empDF.printSchema()\n",
    "empDF.show()\n",
    "\n",
    "dept = [(\"Finance\",10),\\\n",
    "    (\"Marketing\",20), \\\n",
    "    (\"Sales\",30), \\\n",
    "    (\"IT\", 40) \\\n",
    "        ]\n",
    "\n",
    "deptColumns = [\"dept_name\",\"dept_id\"]\n",
    "deptDF = spark.createDataFrame(data=dept, schema=deptColumns)\n",
    "deptDF.printSchema()\n",
    "deptDF.show()"
   ]
  },
  {
   "cell_type": "code",
   "execution_count": 0,
   "metadata": {
    "application/vnd.databricks.v1+cell": {
     "cellMetadata": {
      "byteLimit": 2048000,
      "rowLimit": 10000
     },
     "inputWidgets": {},
     "nuid": "ca32103d-0ef1-4709-b4bc-5491e9b20a6e",
     "showTitle": false,
     "title": ""
    }
   },
   "outputs": [
    {
     "output_type": "stream",
     "name": "stdout",
     "output_type": "stream",
     "text": [
      "+---------+-------+\n|dept_name|dept_id|\n+---------+-------+\n|  Finance|     10|\n|Marketing|     20|\n|    Sales|     30|\n|       IT|     40|\n+---------+-------+\n\n"
     ]
    }
   ],
   "source": [
    "deptDF.show()"
   ]
  },
  {
   "cell_type": "code",
   "execution_count": 0,
   "metadata": {
    "application/vnd.databricks.v1+cell": {
     "cellMetadata": {
      "byteLimit": 2048000,
      "rowLimit": 10000
     },
     "inputWidgets": {},
     "nuid": "877e48a3-68a9-4d16-be9e-3e873c1fd98e",
     "showTitle": false,
     "title": ""
    }
   },
   "outputs": [
    {
     "output_type": "stream",
     "name": "stdout",
     "output_type": "stream",
     "text": [
      "+------+--------+---------------+-----------+-----------+------+------+\n|emp_id|    name|superior_emp_id|year_joined|emp_dept_id|gender|salary|\n+------+--------+---------------+-----------+-----------+------+------+\n|     1|   Smith|             -1|       2018|         10|     M|  3000|\n|     2|    Rose|              1|       2010|         20|     M|  4000|\n|     3|Williams|              1|       2010|         10|     M|  1000|\n|     4|   Jones|              2|       2005|         40|     F|  2000|\n|     5|   Brown|              2|       2010|         40|      |    -1|\n|     6|   Brown|              2|       2010|         50|      |    -1|\n+------+--------+---------------+-----------+-----------+------+------+\n\n"
     ]
    }
   ],
   "source": [
    "empDF.show()"
   ]
  },
  {
   "cell_type": "code",
   "execution_count": 0,
   "metadata": {
    "application/vnd.databricks.v1+cell": {
     "cellMetadata": {
      "byteLimit": 2048000,
      "rowLimit": 10000
     },
     "inputWidgets": {},
     "nuid": "676b1086-972f-4274-90d2-082e5396b6ab",
     "showTitle": false,
     "title": ""
    }
   },
   "outputs": [
    {
     "output_type": "stream",
     "name": "stdout",
     "output_type": "stream",
     "text": [
      "+------+--------+---------------+-----------+-----------+------+------+---------+-------+\n|emp_id|    name|superior_emp_id|year_joined|emp_dept_id|gender|salary|dept_name|dept_id|\n+------+--------+---------------+-----------+-----------+------+------+---------+-------+\n|     1|   Smith|             -1|       2018|         10|     M|  3000|  Finance|     10|\n|     3|Williams|              1|       2010|         10|     M|  1000|  Finance|     10|\n|     2|    Rose|              1|       2010|         20|     M|  4000|Marketing|     20|\n|     4|   Jones|              2|       2005|         40|     F|  2000|       IT|     40|\n|     5|   Brown|              2|       2010|         40|      |    -1|       IT|     40|\n+------+--------+---------------+-----------+-----------+------+------+---------+-------+\n\n"
     ]
    }
   ],
   "source": [
    "empDF.join(deptDF,empDF.emp_dept_id==deptDF.dept_id,\"inner\").show()"
   ]
  },
  {
   "cell_type": "code",
   "execution_count": 0,
   "metadata": {
    "application/vnd.databricks.v1+cell": {
     "cellMetadata": {
      "byteLimit": 2048000,
      "rowLimit": 10000
     },
     "inputWidgets": {},
     "nuid": "60655ad6-6b62-4656-841c-93f1a99c9e21",
     "showTitle": false,
     "title": ""
    }
   },
   "outputs": [
    {
     "output_type": "stream",
     "name": "stdout",
     "output_type": "stream",
     "text": [
      "+------+--------+---------------+-----------+-----------+------+------+---------+-------+\n|emp_id|    name|superior_emp_id|year_joined|emp_dept_id|gender|salary|dept_name|dept_id|\n+------+--------+---------------+-----------+-----------+------+------+---------+-------+\n|     1|   Smith|             -1|       2018|         10|     M|  3000|  Finance|     10|\n|     2|    Rose|              1|       2010|         20|     M|  4000|Marketing|     20|\n|     3|Williams|              1|       2010|         10|     M|  1000|  Finance|     10|\n|     4|   Jones|              2|       2005|         40|     F|  2000|       IT|     40|\n|     5|   Brown|              2|       2010|         40|      |    -1|       IT|     40|\n|     6|   Brown|              2|       2010|         50|      |    -1|     null|   null|\n+------+--------+---------------+-----------+-----------+------+------+---------+-------+\n\n"
     ]
    }
   ],
   "source": [
    "empDF.join(deptDF,empDF.emp_dept_id==deptDF.dept_id,\"left\").show()"
   ]
  },
  {
   "cell_type": "code",
   "execution_count": 0,
   "metadata": {
    "application/vnd.databricks.v1+cell": {
     "cellMetadata": {
      "byteLimit": 2048000,
      "rowLimit": 10000
     },
     "inputWidgets": {},
     "nuid": "b1fdb3dd-b77b-4f91-9ca3-f8f729b9137f",
     "showTitle": false,
     "title": ""
    }
   },
   "outputs": [
    {
     "output_type": "stream",
     "name": "stdout",
     "output_type": "stream",
     "text": [
      "+------+--------+---------------+-----------+-----------+------+------+---------+-------+\n|emp_id|    name|superior_emp_id|year_joined|emp_dept_id|gender|salary|dept_name|dept_id|\n+------+--------+---------------+-----------+-----------+------+------+---------+-------+\n|     3|Williams|              1|       2010|         10|     M|  1000|  Finance|     10|\n|     1|   Smith|             -1|       2018|         10|     M|  3000|  Finance|     10|\n|     2|    Rose|              1|       2010|         20|     M|  4000|Marketing|     20|\n|  null|    null|           null|       null|       null|  null|  null|    Sales|     30|\n|     5|   Brown|              2|       2010|         40|      |    -1|       IT|     40|\n|     4|   Jones|              2|       2005|         40|     F|  2000|       IT|     40|\n+------+--------+---------------+-----------+-----------+------+------+---------+-------+\n\n"
     ]
    }
   ],
   "source": [
    "empDF.join(deptDF,empDF.emp_dept_id==deptDF.dept_id,\"right\").show()"
   ]
  },
  {
   "cell_type": "code",
   "execution_count": 0,
   "metadata": {
    "application/vnd.databricks.v1+cell": {
     "cellMetadata": {},
     "inputWidgets": {},
     "nuid": "fbf6083f-6267-4bc9-a8a5-3c6f65e26526",
     "showTitle": true,
     "title": "Union in Pyspark"
    }
   },
   "outputs": [],
   "source": [
    " "
   ]
  },
  {
   "cell_type": "code",
   "execution_count": 0,
   "metadata": {
    "application/vnd.databricks.v1+cell": {
     "cellMetadata": {},
     "inputWidgets": {},
     "nuid": "375217d5-6092-4bd7-ae29-118f464960c3",
     "showTitle": false,
     "title": ""
    }
   },
   "outputs": [],
   "source": []
  },
  {
   "cell_type": "code",
   "execution_count": 0,
   "metadata": {
    "application/vnd.databricks.v1+cell": {
     "cellMetadata": {},
     "inputWidgets": {},
     "nuid": "21bdf10b-484c-4007-8e7b-11269f7580ac",
     "showTitle": false,
     "title": ""
    }
   },
   "outputs": [],
   "source": []
  },
  {
   "cell_type": "code",
   "execution_count": 0,
   "metadata": {
    "application/vnd.databricks.v1+cell": {
     "cellMetadata": {},
     "inputWidgets": {},
     "nuid": "6f170933-ec12-421b-9d69-88ccf3fec47b",
     "showTitle": false,
     "title": ""
    }
   },
   "outputs": [],
   "source": []
  },
  {
   "cell_type": "code",
   "execution_count": 0,
   "metadata": {
    "application/vnd.databricks.v1+cell": {
     "cellMetadata": {},
     "inputWidgets": {},
     "nuid": "56575d8a-c686-4cf3-a9b9-76a575915dbe",
     "showTitle": false,
     "title": ""
    }
   },
   "outputs": [],
   "source": []
  }
 ],
 "metadata": {
  "application/vnd.databricks.v1+notebook": {
   "dashboards": [],
   "language": "python",
   "notebookMetadata": {
    "pythonIndentUnit": 4
   },
   "notebookName": "Spark Tutorial",
   "widgets": {}
  }
 },
 "nbformat": 4,
 "nbformat_minor": 0
}
